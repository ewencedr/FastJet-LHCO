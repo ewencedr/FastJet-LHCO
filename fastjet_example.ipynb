{
 "cells": [
  {
   "cell_type": "markdown",
   "metadata": {},
   "source": [
    "# Fastjet Example\n",
    "Use [fastjet](https://github.com/scikit-hep/fastjet) to cluster jets in python. This example uses the [LHC Olympics dataset](https://lhco2020.github.io/homepage/)."
   ]
  },
  {
   "cell_type": "markdown",
   "metadata": {},
   "source": [
    "## Imports"
   ]
  },
  {
   "cell_type": "code",
   "execution_count": 42,
   "metadata": {},
   "outputs": [],
   "source": [
    "import fastjet as fj\n",
    "import energyflow as ef\n",
    "import pandas as pd\n",
    "import numpy as np\n",
    "import matplotlib.pyplot as plt\n",
    "from tqdm import tqdm\n",
    "import matplotlib as mpl\n",
    "from cycler import cycler\n",
    "import awkward as ak\n",
    "import vector\n",
    "import h5py"
   ]
  },
  {
   "cell_type": "code",
   "execution_count": 2,
   "metadata": {},
   "outputs": [],
   "source": [
    "# Define plot style\n",
    "mpl.rcParams[\"axes.prop_cycle\"] = cycler(\n",
    "    color=[\n",
    "        \"#B6BFC3\",\n",
    "        \"#3B515B\",\n",
    "        \"#0271BB\",\n",
    "        \"#E2001A\",\n",
    "    ]\n",
    ")\n",
    "mpl.rcParams[\"font.size\"] = 15\n",
    "mpl.rcParams[\"patch.linewidth\"] = 1.25"
   ]
  },
  {
   "cell_type": "markdown",
   "metadata": {},
   "source": [
    "## Load Data "
   ]
  },
  {
   "cell_type": "code",
   "execution_count": 3,
   "metadata": {},
   "outputs": [],
   "source": [
    "filepath = \"/beegfs/desy/user/ewencedr/data/lhco/events_anomalydetection_v2.h5\""
   ]
  },
  {
   "cell_type": "code",
   "execution_count": 4,
   "metadata": {},
   "outputs": [
    {
     "name": "stdout",
     "output_type": "stream",
     "text": [
      "(1100000, 2101)\n",
      "Memory in GB: 17.227232456207275\n"
     ]
    }
   ],
   "source": [
    "# Load everything into memory\n",
    "df = pd.read_hdf(filepath)\n",
    "print(df.shape)\n",
    "print(\"Memory in GB:\",sum(df.memory_usage(deep=True)) / (1024**3))"
   ]
  },
  {
   "cell_type": "code",
   "execution_count": 5,
   "metadata": {},
   "outputs": [],
   "source": [
    "# split data into signal and background\n",
    "np_array = np.array(df)\n",
    "background = np_array[np_array[:,2100]==0] \n",
    "signal = np_array[np_array[:,2100]==1]"
   ]
  },
  {
   "cell_type": "code",
   "execution_count": 6,
   "metadata": {},
   "outputs": [],
   "source": [
    "# change the shape of the data to (n_events, n_particles, n_features) and remove the singal/background label\n",
    "qcd_data = background[:, :2100].reshape(-1, 700, 3)\n",
    "sig_data = signal[:, :2100].reshape(-1, 700, 3)"
   ]
  },
  {
   "cell_type": "code",
   "execution_count": 36,
   "metadata": {},
   "outputs": [
    {
     "name": "stdout",
     "output_type": "stream",
     "text": [
      "Background events: 1000000\n",
      "Signal events: 100000\n"
     ]
    }
   ],
   "source": [
    "# save lengths of signal and background data for later use\n",
    "len_bckg = len(qcd_data)\n",
    "len_sig = len(sig_data)\n",
    "print(f\"Background events: {len_bckg}\")\n",
    "print(f\"Signal events: {len_sig}\")"
   ]
  },
  {
   "cell_type": "code",
   "execution_count": 7,
   "metadata": {},
   "outputs": [],
   "source": [
    "data_full = np.concatenate((qcd_data, sig_data), axis=0)"
   ]
  },
  {
   "cell_type": "code",
   "execution_count": 48,
   "metadata": {},
   "outputs": [
    {
     "name": "stdout",
     "output_type": "stream",
     "text": [
      "(1000000, 700, 3)\n"
     ]
    }
   ],
   "source": [
    "print(qcd_data.shape)"
   ]
  },
  {
   "cell_type": "code",
   "execution_count": 49,
   "metadata": {},
   "outputs": [
    {
     "name": "stdout",
     "output_type": "stream",
     "text": [
      "1000000\n"
     ]
    }
   ],
   "source": [
    "print(qcd_data.shape[0])"
   ]
  },
  {
   "cell_type": "markdown",
   "metadata": {},
   "source": [
    "save data in with features pt,eta,phi,signal"
   ]
  },
  {
   "cell_type": "code",
   "execution_count": 56,
   "metadata": {},
   "outputs": [
    {
     "name": "stdout",
     "output_type": "stream",
     "text": [
      "(1000000, 700, 1) (100000, 700, 1)\n"
     ]
    },
    {
     "name": "stdout",
     "output_type": "stream",
     "text": [
      "(1000000, 700, 4) (100000, 700, 4)\n",
      "(1100000, 700, 4)\n"
     ]
    }
   ],
   "source": [
    "zeros = np.zeros([qcd_data.shape[0], qcd_data.shape[1], 1])\n",
    "ones = np.ones([sig_data.shape[0], sig_data.shape[1], 1])\n",
    "print(zeros.shape, ones.shape)\n",
    "background_data = np.concatenate((qcd_data, zeros), axis=2)\n",
    "signal_data = np.concatenate((sig_data, ones), axis=2)\n",
    "print(background_data.shape, signal_data.shape)\n",
    "data_full = np.concatenate((background_data, signal_data), axis=0)\n",
    "print(data_full.shape)"
   ]
  },
  {
   "cell_type": "code",
   "execution_count": 15,
   "metadata": {},
   "outputs": [
    {
     "name": "stdout",
     "output_type": "stream",
     "text": [
      "(100000, 700, 3)\n",
      "(1000000, 700, 3)\n"
     ]
    }
   ],
   "source": [
    "print(sig_data.shape)\n",
    "print(qcd_data.shape)"
   ]
  },
  {
   "cell_type": "code",
   "execution_count": null,
   "metadata": {},
   "outputs": [],
   "source": []
  },
  {
   "cell_type": "markdown",
   "metadata": {},
   "source": [
    "Let's look at the data. We have 1.000.000 background events and 100.000 signal events. Each event consists of up to 700 Particles with pt, eta, phi."
   ]
  },
  {
   "cell_type": "code",
   "execution_count": 17,
   "metadata": {},
   "outputs": [
    {
     "data": {
      "image/png": "[encoded data removed]",
      "text/plain": [
       "<Figure size 1500x500 with 3 Axes>"
      ]
     },
     "metadata": {},
     "output_type": "display_data"
    }
   ],
   "source": [
    "label_map = {\"0\": \"$p_T$\", \"1\": \"$\\eta$\", \"2\": \"$\\phi$\"}\n",
    "fig, axs = plt.subplots(1, 3, figsize=(15, 5))\n",
    "for index,ax in enumerate(axs):\n",
    "    ax.hist(\n",
    "        qcd_data[:, :, index].flatten()[qcd_data[:, :, index].flatten() != 0], bins=100\n",
    "    )\n",
    "    ax.set_xlabel(f\"{label_map[str(index)]}\")\n",
    "    ax.set_yscale(\"log\")\n",
    "    if index == 1:\n",
    "        ax.set_ylim(1,)\n",
    "    if index ==2 or index == 1:\n",
    "        ax.set_ylim(1,1e7)\n",
    "plt.show()"
   ]
  },
  {
   "cell_type": "markdown",
   "metadata": {},
   "source": [
    "Define the jet clustering algorithm. We use the anti-kt algorithm with a radius parameter of 1.0."
   ]
  },
  {
   "cell_type": "code",
   "execution_count": 8,
   "metadata": {},
   "outputs": [],
   "source": [
    "jetdef = fj.JetDefinition(fj.antikt_algorithm, 1.0)"
   ]
  },
  {
   "cell_type": "markdown",
   "metadata": {},
   "source": [
    "Awkward arrays are like numpy arrays, but they can have jagged dimensions. This is useful for particle physics, where we have a variable number of particles in each event. To benefit from the speed of awkward, we need to transform our data into an awkward array. For this, we first remove the zero padding and then tell the awkward array that our input data is a 4vector with eta, phi, pt, and mass."
   ]
  },
  {
   "cell_type": "code",
   "execution_count": 9,
   "metadata": {},
   "outputs": [],
   "source": [
    "# to awkard array\n",
    "zrs = np.zeros((data_full.shape[0], data_full.shape[1], 1))\n",
    "data_with_mass = np.concatenate((data_full, zrs), axis=2)\n",
    "awkward_data = ak.from_numpy(data_with_mass)"
   ]
  },
  {
   "cell_type": "code",
   "execution_count": 10,
   "metadata": {},
   "outputs": [
    {
     "name": "stdout",
     "output_type": "stream",
     "text": [
      "1100000 * 700 * Momentum4D[pt: float64, eta: float64, phi: float64, mass: float64]\n"
     ]
    }
   ],
   "source": [
    "# tell awkward that the data is in eta, phi, pt, mass format\n",
    "vector.register_awkward()\n",
    "unmasked_data = ak.zip({\"pt\": awkward_data[:,:,0], \"eta\": awkward_data[:,:,1], \"phi\": awkward_data[:,:,2], \"mass\": awkward_data[:,:,3]}, with_name=\"Momentum4D\")\n",
    "print(unmasked_data.type)"
   ]
  },
  {
   "cell_type": "code",
   "execution_count": 11,
   "metadata": {},
   "outputs": [
    {
     "name": "stdout",
     "output_type": "stream",
     "text": [
      "1100000 * var * Momentum4D[pt: float64, eta: float64, phi: float64, mass: float64]\n"
     ]
    }
   ],
   "source": [
    "#remove the padded data points\n",
    "data = ak.drop_none(ak.mask(unmasked_data, unmasked_data.pt != 0))\n",
    "print(data.type)"
   ]
  },
  {
   "cell_type": "markdown",
   "metadata": {},
   "source": [
    "Now the data can be clustered"
   ]
  },
  {
   "cell_type": "code",
   "execution_count": 12,
   "metadata": {},
   "outputs": [
    {
     "name": "stdout",
     "output_type": "stream",
     "text": [
      "#--------------------------------------------------------------------------\n",
      "#                         FastJet release 3.4.1\n",
      "#                 M. Cacciari, G.P. Salam and G. Soyez                  \n",
      "#     A software package for jet finding and analysis at colliders      \n",
      "#                           http://fastjet.fr                           \n",
      "#\t                                                                      \n",
      "# Please cite EPJC72(2012)1896 [arXiv:1111.6097] if you use this package\n",
      "# for scientific work and optionally PLB641(2006)57 [hep-ph/0512210].   \n",
      "#                                                                       \n",
      "# FastJet is provided without warranty under the GNU GPL v2 or higher.  \n",
      "# It uses T. Chan's closest pair algorithm, S. Fortune's Voronoi code,\n",
      "# CGAL and 3rd party plugin jet algorithms. See COPYING file for details.\n",
      "#--------------------------------------------------------------------------\n"
     ]
    }
   ],
   "source": [
    "cluster = fj.ClusterSequence(data, jetdef)"
   ]
  },
  {
   "cell_type": "code",
   "execution_count": 13,
   "metadata": {},
   "outputs": [],
   "source": [
    "# get jets and constituents\n",
    "jets_out = cluster.inclusive_jets()\n",
    "consts_out = cluster.constituents()"
   ]
  },
  {
   "cell_type": "code",
   "execution_count": 14,
   "metadata": {},
   "outputs": [],
   "source": [
    "# define a function to sort ak.Array by pt\n",
    "def sort_by_pt(data: ak.Array, ascending: bool = False, return_indices: bool = False):\n",
    "    \"\"\"Sort ak.Array by pt\n",
    "\n",
    "    Args:\n",
    "        data (ak.Array): array that should be sorted by pt. It should have a pt attribute.\n",
    "        ascending (bool, optional): If True, the first value in each sorted group will be smallest; if False, the order is from largest to smallest. Defaults to False.\n",
    "        return_indices (bool, optional): If True, the indices of the sorted array are returned. Defaults to False.\n",
    "\n",
    "    Returns:\n",
    "        ak.Array: sorted array\n",
    "        ak.Array (optional): indices of the sorted array\n",
    "    \"\"\"\n",
    "    if isinstance(data, ak.Array):\n",
    "        try:\n",
    "            temppt = data.pt\n",
    "        except AttributeError:\n",
    "            raise AttributeError(\n",
    "                \"Needs either correct coordinates or embedded vector backend\"\n",
    "            ) from None\n",
    "    tmpsort = ak.argsort(temppt, axis=-1, ascending=ascending)\n",
    "    if return_indices:\n",
    "        return data[tmpsort], tmpsort\n",
    "    else:   \n",
    "        return data[tmpsort]"
   ]
  },
  {
   "cell_type": "code",
   "execution_count": 15,
   "metadata": {},
   "outputs": [],
   "source": [
    "# sort jets and constituents by pt\n",
    "jets_sorted, idxs = sort_by_pt(jets_out, return_indices=True)\n",
    "consts_sorted_jets = consts_out[idxs]\n",
    "consts_sorted = sort_by_pt(consts_sorted_jets)"
   ]
  },
  {
   "cell_type": "code",
   "execution_count": 25,
   "metadata": {},
   "outputs": [],
   "source": [
    "# only take the first 2 highest pt jets\n",
    "jets_awk = jets_sorted[:,:2]\n",
    "consts_awk = consts_sorted[:,:2]"
   ]
  },
  {
   "cell_type": "code",
   "execution_count": 28,
   "metadata": {},
   "outputs": [
    {
     "name": "stdout",
     "output_type": "stream",
     "text": [
      "279\n"
     ]
    }
   ],
   "source": [
    "# max number of constituents in an event\n",
    "max_consts = int(ak.max(ak.num(consts_awk, axis=-1)))\n",
    "print(max_consts)"
   ]
  },
  {
   "cell_type": "code",
   "execution_count": 29,
   "metadata": {},
   "outputs": [
    {
     "name": "stdout",
     "output_type": "stream",
     "text": [
      "1100000 * var * 279 * Momentum4D[pt: float64, eta: float64, phi: float64, mass: float64]\n"
     ]
    }
   ],
   "source": [
    "# Pad the data with zeros to make them all the same length\n",
    "zero_padding = ak.zip({\"pt\": 0.0, \"eta\": 0.0, \"phi\": 0.0, \"mass\": 0.0}, with_name=\"Momentum4D\")\n",
    "padded_consts = ak.fill_none(ak.pad_none(consts_awk, max_consts, clip=True, axis=-1), zero_padding, axis=-1 )\n",
    "print(padded_consts.type)"
   ]
  },
  {
   "cell_type": "code",
   "execution_count": 30,
   "metadata": {},
   "outputs": [
    {
     "name": "stdout",
     "output_type": "stream",
     "text": [
      "(1100000, 2, 279, 3)\n"
     ]
    }
   ],
   "source": [
    "# go back to numpy arrays\n",
    "pt, eta, phi, mass = ak.unzip(padded_consts)\n",
    "pt_np = ak.to_numpy(pt)\n",
    "eta_np = ak.to_numpy(eta)\n",
    "phi_np = ak.to_numpy(phi)\n",
    "consts = np.stack((pt_np, eta_np, phi_np),axis=-1)\n",
    "print(consts.shape)"
   ]
  },
  {
   "cell_type": "code",
   "execution_count": 31,
   "metadata": {},
   "outputs": [
    {
     "name": "stdout",
     "output_type": "stream",
     "text": [
      "(1100000, 2, 279, 1)\n"
     ]
    }
   ],
   "source": [
    "mask = np.expand_dims((consts[...,0] > 0).astype(int), axis=-1)\n",
    "print(mask.shape)"
   ]
  },
  {
   "cell_type": "code",
   "execution_count": 32,
   "metadata": {},
   "outputs": [
    {
     "name": "stdout",
     "output_type": "stream",
     "text": [
      "(1100000, 2, 4)\n"
     ]
    }
   ],
   "source": [
    "jets_pt_np = ak.to_numpy(jets_awk.pt)\n",
    "jets_eta_np = ak.to_numpy(jets_awk.eta)\n",
    "jets_phi_np = ak.to_numpy(jets_awk.phi)\n",
    "jets_m_np = ak.to_numpy(jets_awk.m)\n",
    "jets = np.stack((jets_pt_np, jets_eta_np, jets_phi_np, jets_m_np), axis=-1)\n",
    "print(jets.shape)"
   ]
  },
  {
   "cell_type": "markdown",
   "metadata": {},
   "source": [
    "split into signal and background"
   ]
  },
  {
   "cell_type": "code",
   "execution_count": 39,
   "metadata": {},
   "outputs": [],
   "source": [
    "jets_background = jets[:len_bckg]\n",
    "jets_signal = jets[len_bckg:]\n",
    "mask_background = mask[:len_bckg]\n",
    "mask_signal = mask[len_bckg:]\n",
    "consts_background = consts[:len_bckg]\n",
    "consts_signal = consts[len_bckg:]"
   ]
  },
  {
   "cell_type": "markdown",
   "metadata": {},
   "source": [
    "## Save data"
   ]
  },
  {
   "cell_type": "code",
   "execution_count": 40,
   "metadata": {},
   "outputs": [],
   "source": [
    "final_path = \"/beegfs/desy/user/ewencedr/data/lhco/final_data/\""
   ]
  },
  {
   "cell_type": "code",
   "execution_count": 43,
   "metadata": {},
   "outputs": [],
   "source": [
    "background_path = final_path + \"processed_data_background.h5\"\n",
    "signal_path = final_path + \"processed_data_signal.h5\"\n",
    "with h5py.File(background_path, \"w\") as f:\n",
    "    f.create_dataset(\"jet_data\", data=jets_background)\n",
    "    f.create_dataset(\"constituents\", data=consts_background)  \n",
    "    f.create_dataset(\"mask\", data=mask_background)  \n",
    "with h5py.File(signal_path, \"w\") as f:\n",
    "    f.create_dataset(\"jet_data\", data=jets_signal)\n",
    "    f.create_dataset(\"constituents\", data=consts_signal)  \n",
    "    f.create_dataset(\"mask\", data=mask_signal)  "
   ]
  },
  {
   "cell_type": "markdown",
   "metadata": {},
   "source": [
    "# Compare to provided features"
   ]
  },
  {
   "cell_type": "code",
   "execution_count": 79,
   "metadata": {},
   "outputs": [],
   "source": [
    "label_map = {\"0\": \"pt\", \"1\": \"eta\", \"2\": \"phi\", \"3\": \"mass\"}"
   ]
  },
  {
   "cell_type": "markdown",
   "metadata": {},
   "source": [
    "## Constituent Features"
   ]
  },
  {
   "cell_type": "code",
   "execution_count": 48,
   "metadata": {},
   "outputs": [
    {
     "name": "stdout",
     "output_type": "stream",
     "text": [
      "(1000000, 279, 3)\n"
     ]
    }
   ],
   "source": [
    "x_background = consts_background[:,0]\n",
    "y_background = consts_background[:,1]\n",
    "x_signal = consts_signal[:,0]\n",
    "y_signal = consts_signal[:,1]\n",
    "print(x_background.shape)"
   ]
  },
  {
   "cell_type": "markdown",
   "metadata": {},
   "source": [
    "### Background"
   ]
  },
  {
   "cell_type": "code",
   "execution_count": 126,
   "metadata": {},
   "outputs": [
    {
     "data": {
      "image/png": "[encoded data removed]",
      "text/plain": [
       "<Figure size 1500x500 with 3 Axes>"
      ]
     },
     "metadata": {},
     "output_type": "display_data"
    }
   ],
   "source": [
    "fig, axs = plt.subplots(1, 3, figsize=(15, 5))\n",
    "\n",
    "for index,ax in enumerate(axs):\n",
    "    # cycle through the colors\n",
    "    next(ax._get_lines.prop_cycler)\n",
    "    next(ax._get_lines.prop_cycler)\n",
    "    \n",
    "    ax.hist(\n",
    "        x_background[:, :, index].flatten()[x_background[:, :, index].flatten() != 0], bins=100, label=\"X-Jet\", histtype=\"step\"\n",
    "    )\n",
    "    ax.hist(\n",
    "        y_background[:, :, index].flatten()[y_background[:, :, index].flatten() != 0], bins=100, label=\"Y-Jet\", histtype=\"step\"\n",
    "    )\n",
    "    ax.set_xlabel(f\"{label_map[str(index)]}\")\n",
    "    if index == 0 or index == 1 or index == 2:\n",
    "        ax.set_yscale(\"log\")\n",
    "    ax.set_ylim(1,)\n",
    "    if index ==2:\n",
    "        ax.set_ylim(1,1e7)\n",
    "    if index == 1:\n",
    "        ax.legend(frameon=False)\n",
    "plt.show()"
   ]
  },
  {
   "cell_type": "markdown",
   "metadata": {},
   "source": [
    "### Signal"
   ]
  },
  {
   "cell_type": "code",
   "execution_count": 125,
   "metadata": {},
   "outputs": [
    {
     "data": {
      "image/png": "[encoded data removed]",
      "text/plain": [
       "<Figure size 1500x500 with 3 Axes>"
      ]
     },
     "metadata": {},
     "output_type": "display_data"
    }
   ],
   "source": [
    "fig, axs = plt.subplots(1, 3, figsize=(15, 5))\n",
    "\n",
    "for index,ax in enumerate(axs):\n",
    "    # cycle through the colors\n",
    "    next(ax._get_lines.prop_cycler)\n",
    "    next(ax._get_lines.prop_cycler)\n",
    "    \n",
    "    ax.hist(\n",
    "        x_signal[:, :, index].flatten()[x_signal[:, :, index].flatten() != 0], bins=100, label=\"X-Jet\", histtype=\"step\"\n",
    "    )\n",
    "    ax.hist(\n",
    "        y_signal[:, :, index].flatten()[y_signal[:, :, index].flatten() != 0], bins=100, label=\"Y-Jet\", histtype=\"step\"\n",
    "    )\n",
    "    ax.set_xlabel(f\"{label_map[str(index)]}\")\n",
    "    if index == 0 or index == 1 or index == 2:\n",
    "        ax.set_yscale(\"log\")\n",
    "    ax.set_ylim(1,)\n",
    "    if index ==2:\n",
    "        ax.set_ylim(1,1e7)\n",
    "    if index == 1:\n",
    "        ax.legend(frameon=False)\n",
    "plt.show()"
   ]
  },
  {
   "cell_type": "markdown",
   "metadata": {},
   "source": [
    "## Jet Features"
   ]
  },
  {
   "cell_type": "markdown",
   "metadata": {},
   "source": [
    "### Load and prepare provided features"
   ]
  },
  {
   "cell_type": "code",
   "execution_count": 57,
   "metadata": {},
   "outputs": [],
   "source": [
    "path_features = \"/beegfs/desy/user/ewencedr/data/lhco/events_anomalydetection_v2.features.h5\""
   ]
  },
  {
   "cell_type": "code",
   "execution_count": 56,
   "metadata": {},
   "outputs": [
    {
     "name": "stdout",
     "output_type": "stream",
     "text": [
      "(1100000, 15)\n",
      "Memory in GB: 0.13113021850585938\n"
     ]
    }
   ],
   "source": [
    "df = pd.read_hdf(path_features)\n",
    "print(df.shape)\n",
    "print(\"Memory in GB:\",sum(df.memory_usage(deep=True)) / (1024**3))\n"
   ]
  },
  {
   "cell_type": "code",
   "execution_count": 66,
   "metadata": {},
   "outputs": [
    {
     "name": "stdout",
     "output_type": "stream",
     "text": [
      "(1000000, 14)\n",
      "(100000, 14)\n"
     ]
    }
   ],
   "source": [
    "feats = np.array(df)\n",
    "background_feats = feats[feats[...,-1]==0][:,:-1]\n",
    "signal_feats = feats[feats[...,-1]==1][:,:-1]\n",
    "print(background_feats.shape)\n",
    "print(signal_feats.shape)"
   ]
  },
  {
   "cell_type": "code",
   "execution_count": 72,
   "metadata": {},
   "outputs": [],
   "source": [
    "def to_ptyphim(feats):\n",
    "    \"\"\"  px, py, pz, mj --> pt, eta, phi, mj\"\"\"\n",
    "    p3 = feats[:, :3]\n",
    "    e = np.sqrt(feats[:, 0]**2 + feats[:, 1]**2 + feats[:, 2]**2 + feats[:, 3]**2)\n",
    "    p4 = np.concatenate((e[:, None],p3), axis=1)\n",
    "    ptyphim = ef.ptyphims_from_p4s(p4, phi_ref=0)\n",
    "    return ptyphim"
   ]
  },
  {
   "cell_type": "code",
   "execution_count": 76,
   "metadata": {},
   "outputs": [],
   "source": [
    "feats_x_background = to_ptyphim(background_feats[:,:4])\n",
    "feats_y_background = to_ptyphim(background_feats[:,7:11])\n",
    "feats_x_signal = to_ptyphim(signal_feats[:,:4]) \n",
    "feats_y_signal = to_ptyphim(signal_feats[:,7:11])"
   ]
  },
  {
   "cell_type": "markdown",
   "metadata": {},
   "source": [
    "### Prepare fastjet data"
   ]
  },
  {
   "cell_type": "code",
   "execution_count": 77,
   "metadata": {},
   "outputs": [],
   "source": [
    "jets_x_background = jets_background[:,0]\n",
    "jets_y_background = jets_background[:,1]\n",
    "jets_x_signal = jets_signal[:,0]\n",
    "jets_y_signal = jets_signal[:,1]"
   ]
  },
  {
   "cell_type": "markdown",
   "metadata": {},
   "source": [
    "### Background"
   ]
  },
  {
   "cell_type": "markdown",
   "metadata": {},
   "source": [
    "#### X-Jet"
   ]
  },
  {
   "cell_type": "code",
   "execution_count": 121,
   "metadata": {},
   "outputs": [
    {
     "data": {
      "image/png": "[encoded data removed]",
      "text/plain": [
       "<Figure size 1500x500 with 4 Axes>"
      ]
     },
     "metadata": {},
     "output_type": "display_data"
    }
   ],
   "source": [
    "fig, axs = plt.subplots(1, 4, figsize=(15, 5))\n",
    "for index,ax in enumerate(axs):\n",
    "    hist1 = ax.hist(\n",
    "        feats_x_background[:, index], bins=100, label=\"provided\"\n",
    "    )\n",
    "    ax.set_xlabel(f\"{label_map[str(index)]}\")\n",
    "    ax.hist(jets_x_background[:,index],bins=hist1[1], histtype='step', label=\"fastjet\")\n",
    "    ax.set_yscale(\"log\")\n",
    "    if index == 2:\n",
    "        ax.legend(frameon=False)\n",
    "        ax.set_ylim(1e-1, 1e6)\n",
    "plt.tight_layout()\n",
    "plt.show()"
   ]
  },
  {
   "cell_type": "code",
   "execution_count": null,
   "metadata": {},
   "outputs": [],
   "source": [
    "diff_background_x = feats_x_background - "
   ]
  },
  {
   "cell_type": "markdown",
   "metadata": {},
   "source": [
    "#### Y-Jet"
   ]
  },
  {
   "cell_type": "code",
   "execution_count": 122,
   "metadata": {},
   "outputs": [
    {
     "data": {
      "image/png": "[encoded data removed]",
      "text/plain": [
       "<Figure size 1500x500 with 4 Axes>"
      ]
     },
     "metadata": {},
     "output_type": "display_data"
    }
   ],
   "source": [
    "fig, axs = plt.subplots(1, 4, figsize=(15, 5))\n",
    "for index,ax in enumerate(axs):\n",
    "    hist1 = ax.hist(\n",
    "        feats_y_background[:, index], bins=100, label=\"provided\"\n",
    "    )\n",
    "    ax.set_xlabel(f\"{label_map[str(index)]}\")\n",
    "    ax.hist(jets_y_background[:,index],bins=hist1[1], histtype='step', label=\"fastjet\")\n",
    "    ax.set_yscale(\"log\")\n",
    "    if index == 2:\n",
    "        ax.legend(frameon=False)\n",
    "        ax.set_ylim(1e-1,1e6)\n",
    "plt.tight_layout()\n",
    "plt.show()"
   ]
  },
  {
   "cell_type": "markdown",
   "metadata": {},
   "source": [
    "### Signal"
   ]
  },
  {
   "cell_type": "markdown",
   "metadata": {},
   "source": [
    "#### X-Jet"
   ]
  },
  {
   "cell_type": "code",
   "execution_count": 123,
   "metadata": {},
   "outputs": [
    {
     "data": {
      "image/png": "[encoded data removed]",
      "text/plain": [
       "<Figure size 1500x500 with 4 Axes>"
      ]
     },
     "metadata": {},
     "output_type": "display_data"
    }
   ],
   "source": [
    "fig, axs = plt.subplots(1, 4, figsize=(15, 5))\n",
    "for index,ax in enumerate(axs):\n",
    "    hist1 = ax.hist(\n",
    "        feats_x_signal[:, index], bins=100, label=\"provided\"\n",
    "    )\n",
    "    ax.set_xlabel(f\"{label_map[str(index)]}\")\n",
    "    ax.hist(jets_x_signal[:,index],bins=hist1[1], histtype='step', label=\"fastjet\")\n",
    "    ax.set_yscale(\"log\")\n",
    "    if index == 2:\n",
    "        ax.legend(frameon=False)\n",
    "        ax.set_ylim(1e-1, 1e5)\n",
    "plt.tight_layout()\n",
    "plt.show()"
   ]
  },
  {
   "cell_type": "markdown",
   "metadata": {},
   "source": [
    "#### Y-Jets"
   ]
  },
  {
   "cell_type": "code",
   "execution_count": 124,
   "metadata": {},
   "outputs": [
    {
     "data": {
      "image/png": "[encoded data removed]",
      "text/plain": [
       "<Figure size 1500x500 with 4 Axes>"
      ]
     },
     "metadata": {},
     "output_type": "display_data"
    }
   ],
   "source": [
    "fig, axs = plt.subplots(1, 4, figsize=(15, 5))\n",
    "for index,ax in enumerate(axs):\n",
    "    hist1 = ax.hist(\n",
    "        feats_y_signal[:, index], bins=100, label=\"provided\"\n",
    "    )\n",
    "    ax.set_xlabel(f\"{label_map[str(index)]}\")\n",
    "    ax.hist(jets_y_signal[:,index],bins=hist1[1], histtype='step', label=\"fastjet\")\n",
    "    ax.set_yscale(\"log\")\n",
    "    if index == 2:\n",
    "        ax.legend(frameon=False)\n",
    "        ax.set_ylim(1e-1, 1e5)\n",
    "plt.tight_layout()\n",
    "plt.show()"
   ]
  },
  {
   "cell_type": "code",
   "execution_count": null,
   "metadata": {},
   "outputs": [],
   "source": []
  },
  {
   "cell_type": "code",
   "execution_count": null,
   "metadata": {},
   "outputs": [],
   "source": []
  },
  {
   "cell_type": "code",
   "execution_count": 67,
   "metadata": {},
   "outputs": [
    {
     "name": "stdout",
     "output_type": "stream",
     "text": [
      "(1100000, 2, 4)\n"
     ]
    }
   ],
   "source": [
    "print(jets.shape)"
   ]
  },
  {
   "cell_type": "code",
   "execution_count": null,
   "metadata": {},
   "outputs": [],
   "source": [
    "fig, axs = plt.subplots(1, 4, figsize=(15, 5))\n",
    "for index,ax in enumerate(axs):\n",
    "    ax.hist(\n",
    "        np.array(background_feats[:, index]).flatten()[np.array(background_feats[:, index]).flatten() != 0], bins=100, label='original'\n",
    "    )\n",
    "    ax.hist(\n",
    "        np.array(p4s_gen[:, index]).flatten()[np.array(p4s_gen[:, index]).flatten() != 0], bins=100, label='self clustered', histtype=\"step\"\n",
    "    )\n",
    "    ax.legend()\n",
    "    ax.set_xlabel(f\"{df.columns[index]}\")\n",
    "    if index == 0 or index == 1 or index == 2:\n",
    "        ax.set_yscale(\"log\")\n",
    "plt.show()"
   ]
  },
  {
   "cell_type": "code",
   "execution_count": null,
   "metadata": {},
   "outputs": [],
   "source": []
  },
  {
   "cell_type": "code",
   "execution_count": null,
   "metadata": {},
   "outputs": [],
   "source": []
  },
  {
   "cell_type": "code",
   "execution_count": 37,
   "metadata": {},
   "outputs": [
    {
     "name": "stdout",
     "output_type": "stream",
     "text": [
      "[[ 8.38076172e+02  3.15002739e-01  2.74414682e+00]\n",
      " [ 2.96413147e+02  3.13269794e-01  2.74230170e+00]\n",
      " [ 1.22485298e+02  3.16103309e-01  2.74771357e+00]\n",
      " [ 1.20389732e+02  3.17118406e-01  2.75638413e+00]\n",
      " [ 8.75891800e+01  3.18489134e-01  2.76075792e+00]\n",
      " [ 4.66920853e+01  3.22169989e-01  2.76138330e+00]\n",
      " [ 3.43478508e+01  3.13941807e-01  2.75606537e+00]\n",
      " [ 2.87176704e+01  3.35890561e-01  2.74845529e+00]\n",
      " [ 8.19467545e+00  3.94431114e-01  2.71384931e+00]\n",
      " [ 3.41843152e+00  3.24367881e-01  2.72755480e+00]\n",
      " [ 1.43928969e+00  2.63392866e-01  2.51362038e+00]\n",
      " [ 1.32824254e+00  1.98608130e-01  2.94601679e+00]\n",
      " [ 5.76006949e-01  4.87898707e-01 -2.63647270e+00]\n",
      " [ 2.71377951e-01  9.45734739e-01  2.11785007e+00]\n",
      " [ 0.00000000e+00  0.00000000e+00  0.00000000e+00]\n",
      " [ 0.00000000e+00  0.00000000e+00  0.00000000e+00]\n",
      " [ 0.00000000e+00  0.00000000e+00  0.00000000e+00]\n",
      " [ 0.00000000e+00  0.00000000e+00  0.00000000e+00]\n",
      " [ 0.00000000e+00  0.00000000e+00  0.00000000e+00]\n",
      " [ 0.00000000e+00  0.00000000e+00  0.00000000e+00]\n",
      " [ 0.00000000e+00  0.00000000e+00  0.00000000e+00]\n",
      " [ 0.00000000e+00  0.00000000e+00  0.00000000e+00]\n",
      " [ 0.00000000e+00  0.00000000e+00  0.00000000e+00]\n",
      " [ 0.00000000e+00  0.00000000e+00  0.00000000e+00]\n",
      " [ 0.00000000e+00  0.00000000e+00  0.00000000e+00]\n",
      " [ 0.00000000e+00  0.00000000e+00  0.00000000e+00]\n",
      " [ 0.00000000e+00  0.00000000e+00  0.00000000e+00]\n",
      " [ 0.00000000e+00  0.00000000e+00  0.00000000e+00]\n",
      " [ 0.00000000e+00  0.00000000e+00  0.00000000e+00]\n",
      " [ 0.00000000e+00  0.00000000e+00  0.00000000e+00]\n",
      " [ 0.00000000e+00  0.00000000e+00  0.00000000e+00]\n",
      " [ 0.00000000e+00  0.00000000e+00  0.00000000e+00]\n",
      " [ 0.00000000e+00  0.00000000e+00  0.00000000e+00]\n",
      " [ 0.00000000e+00  0.00000000e+00  0.00000000e+00]\n",
      " [ 0.00000000e+00  0.00000000e+00  0.00000000e+00]\n",
      " [ 0.00000000e+00  0.00000000e+00  0.00000000e+00]\n",
      " [ 0.00000000e+00  0.00000000e+00  0.00000000e+00]\n",
      " [ 0.00000000e+00  0.00000000e+00  0.00000000e+00]\n",
      " [ 0.00000000e+00  0.00000000e+00  0.00000000e+00]\n",
      " [ 0.00000000e+00  0.00000000e+00  0.00000000e+00]\n",
      " [ 0.00000000e+00  0.00000000e+00  0.00000000e+00]\n",
      " [ 0.00000000e+00  0.00000000e+00  0.00000000e+00]\n",
      " [ 0.00000000e+00  0.00000000e+00  0.00000000e+00]\n",
      " [ 0.00000000e+00  0.00000000e+00  0.00000000e+00]\n",
      " [ 0.00000000e+00  0.00000000e+00  0.00000000e+00]\n",
      " [ 0.00000000e+00  0.00000000e+00  0.00000000e+00]\n",
      " [ 0.00000000e+00  0.00000000e+00  0.00000000e+00]\n",
      " [ 0.00000000e+00  0.00000000e+00  0.00000000e+00]\n",
      " [ 0.00000000e+00  0.00000000e+00  0.00000000e+00]\n",
      " [ 0.00000000e+00  0.00000000e+00  0.00000000e+00]]\n"
     ]
    }
   ],
   "source": [
    "print(consts[0,0,:50])"
   ]
  },
  {
   "cell_type": "code",
   "execution_count": null,
   "metadata": {},
   "outputs": [],
   "source": []
  },
  {
   "cell_type": "code",
   "execution_count": null,
   "metadata": {},
   "outputs": [],
   "source": []
  },
  {
   "cell_type": "code",
   "execution_count": 331,
   "metadata": {},
   "outputs": [
    {
     "name": "stdout",
     "output_type": "stream",
     "text": [
      "(100000, 2, 230)\n"
     ]
    }
   ],
   "source": [
    "tst = ak.to_numpy(padded_data)\n",
    "print(tst.shape)"
   ]
  },
  {
   "cell_type": "code",
   "execution_count": 321,
   "metadata": {},
   "outputs": [
    {
     "name": "stdout",
     "output_type": "stream",
     "text": [
      "(100000, 2, 230)\n",
      "(838.07617188, 0.31500274, 2.74414682, 0.)\n",
      "<class 'numpy.void'>\n",
      "230\n"
     ]
    }
   ],
   "source": [
    "print(consts_numpy.shape)\n",
    "print(consts_numpy[0][0][0])\n",
    "print(type(consts_numpy[0][0][0]))\n",
    "print(len(consts_numpy[0][0]))"
   ]
  },
  {
   "cell_type": "code",
   "execution_count": null,
   "metadata": {},
   "outputs": [],
   "source": [
    "# remove zero-padded particles\n",
    "# creation of the awkward array takes some time\n",
    "trimmed_array = []\n",
    "for evt in tqdm(qcd_data):\n",
    "    trimmed = evt[~np.all(evt == 0, axis=-1)]\n",
    "    trimmed_array.append(trimmed)\n",
    "data_temp = ak.Array(trimmed_array)\n",
    "# tell awkward what type of data we are using\n",
    "vector.register_awkward()\n",
    "data = ak.zip({\"pt\": data_temp[:,:,0], \"eta\": data_temp[:,:,1], \"phi\": data_temp[:,:,2], \"mass\": 0.0}, with_name=\"Momentum4D\")\n",
    "print(data.type)"
   ]
  },
  {
   "cell_type": "code",
   "execution_count": null,
   "metadata": {},
   "outputs": [],
   "source": []
  },
  {
   "cell_type": "code",
   "execution_count": null,
   "metadata": {},
   "outputs": [],
   "source": []
  },
  {
   "cell_type": "code",
   "execution_count": 168,
   "metadata": {},
   "outputs": [
    {
     "name": "stdout",
     "output_type": "stream",
     "text": [
      "100000 * var * var * Momentum4D[pt: float64, eta: float64, phi: float64, mass: float64]\n"
     ]
    }
   ],
   "source": [
    "print(consts.type)"
   ]
  },
  {
   "cell_type": "code",
   "execution_count": 166,
   "metadata": {},
   "outputs": [
    {
     "name": "stdout",
     "output_type": "stream",
     "text": [
      "9\n",
      "2\n",
      "[1.59e+03, 1.56e+03, 90.1, 20.9, 1.07, 0.971, 0.441, 0.438, 0.313]\n",
      "[1.59e+03, 1.56e+03]\n"
     ]
    }
   ],
   "source": [
    "print(len(jets_sorted[0]))\n",
    "print(len(jets[0]))\n",
    "print(jets_sorted[0].pt)\n",
    "print(jets[0].pt)"
   ]
  },
  {
   "cell_type": "code",
   "execution_count": 125,
   "metadata": {},
   "outputs": [
    {
     "name": "stdout",
     "output_type": "stream",
     "text": [
      "[[8, 7, 6, 5, 4, 3, 2, 1, 0], [...], ..., [10, 9, 8, 7, 6, 5, 4, 2, 3, 1, 0]]\n"
     ]
    }
   ],
   "source": [
    "print(idxs)"
   ]
  },
  {
   "cell_type": "code",
   "execution_count": 71,
   "metadata": {},
   "outputs": [],
   "source": [
    "const_indx = cluster.constituent_index()"
   ]
  },
  {
   "cell_type": "code",
   "execution_count": 85,
   "metadata": {},
   "outputs": [
    {
     "name": "stdout",
     "output_type": "stream",
     "text": [
      "100000\n",
      "13\n",
      "71\n"
     ]
    }
   ],
   "source": [
    "print(len(const_indx))\n",
    "print(len(const_indx[1]))\n",
    "print(len(const_indx[1][-1]))"
   ]
  },
  {
   "cell_type": "code",
   "execution_count": 74,
   "metadata": {},
   "outputs": [
    {
     "name": "stdout",
     "output_type": "stream",
     "text": [
      "9\n",
      "{px: -1.47e+03, py: 612, pz: 511, E: 1.67e+03}\n"
     ]
    }
   ],
   "source": [
    "print(len(jets[0]))\n",
    "print(jets[1][-1])"
   ]
  },
  {
   "cell_type": "code",
   "execution_count": 26,
   "metadata": {},
   "outputs": [
    {
     "name": "stdout",
     "output_type": "stream",
     "text": [
      "[10  9  8  7  6  5  4  3  2  1]\n"
     ]
    }
   ],
   "source": [
    "test_array = np.array([1,2,3,4,5,6,7,8,9,10])\n",
    "print(test_array[::-1])"
   ]
  },
  {
   "cell_type": "code",
   "execution_count": null,
   "metadata": {},
   "outputs": [],
   "source": []
  },
  {
   "cell_type": "code",
   "execution_count": 153,
   "metadata": {},
   "outputs": [
    {
     "name": "stdout",
     "output_type": "stream",
     "text": [
      "2\n",
      "9\n"
     ]
    }
   ],
   "source": [
    "# read out the constituents\n",
    "consts = cluster.constituents()\n",
    "consts_sorted_jets = consts[idxs]\n",
    "consts_sorted = sort_by_pt(consts)\n",
    "#consts_sorted = ak.sort(consts, axis=-1)\n",
    "#consts_incl = fj.sorted_by_pt(consts)\n",
    "t = consts[:,-2:]\n",
    "print\n",
    "for i in range(70435,70436):\n",
    "    #print(len(consts[i]),len(t[i]))\n",
    "    #print(\"T:\", len(t[i,0]), len(t[1]))\n",
    "    print(len(t[0]))\n",
    "    print(len(consts[0]))\n",
    "    \n"
   ]
  },
  {
   "cell_type": "code",
   "execution_count": 148,
   "metadata": {},
   "outputs": [
    {
     "name": "stdout",
     "output_type": "stream",
     "text": [
      "[{pt: 1.33, eta: 0.199, phi: 2.95, mass: 0}, ..., {pt: 8.19, eta: 0.394, ...}]\n",
      "[{pt: 1.33, eta: 0.199, phi: 2.95, mass: 0}, ..., {pt: 8.19, eta: 0.394, ...}]\n"
     ]
    }
   ],
   "source": [
    "print(consts[0][-1])\n",
    "print(consts_sorted_jets[0][0])"
   ]
  },
  {
   "cell_type": "code",
   "execution_count": 110,
   "metadata": {},
   "outputs": [
    {
     "name": "stdout",
     "output_type": "stream",
     "text": [
      "[0.271, 0.576, 1.33, 1.44, 3.42, 8.19, ..., 46.7, 87.6, 120, 122, 296, 838]\n"
     ]
    }
   ],
   "source": [
    "print(consts_sorted[0][-1].pt)"
   ]
  },
  {
   "cell_type": "code",
   "execution_count": 154,
   "metadata": {},
   "outputs": [
    {
     "name": "stdout",
     "output_type": "stream",
     "text": [
      "[{pt: 1.33, eta: 0.199, phi: 2.95, mass: 0}, ..., {pt: 8.19, eta: 0.394, ...}]\n",
      "[1.33, 3.42, 296, 838, 122, 46.7, ..., 34.3, 28.7, 1.44, 0.576, 0.271, 8.19]\n",
      "[0.199, 0.324, 0.313, 0.315, 0.316, ..., 0.336, 0.263, 0.488, 0.946, 0.394]\n",
      "\n",
      "[838, 296, 122, 120, 87.6, 46.7, ..., 8.19, 3.42, 1.44, 1.33, 0.576, 0.271]\n",
      "[0.315, 0.313, 0.316, 0.317, 0.318, ..., 0.324, 0.263, 0.199, 0.488, 0.946]\n"
     ]
    }
   ],
   "source": [
    "print(consts[0][-1])\n",
    "print(consts[0][-1].pt)\n",
    "print(consts[0][-1].eta)\n",
    "print()\n",
    "print(consts_sorted[0][-1].pt)\n",
    "print(consts_sorted[0][-1].eta)"
   ]
  },
  {
   "cell_type": "code",
   "execution_count": 93,
   "metadata": {},
   "outputs": [
    {
     "name": "stdout",
     "output_type": "stream",
     "text": [
      "17\n",
      "71\n",
      "[{pt: 0.23, eta: 4.47, phi: -2.82, mass: 0}]\n",
      "[{pt: 0.296, eta: -2.89, phi: 0.868, mass: 0}]\n",
      "[[{pt: 0.313, eta: -4.87, phi: -1.25, mass: 0}], ..., [{pt: 1.33, ...}, ...]]\n"
     ]
    }
   ],
   "source": [
    "print(len(consts[-4]))\n",
    "print(len(consts[1][-1]))\n",
    "print(consts[-3][0])\n",
    "print(consts_sorted[-1][0])\n",
    "print(consts[0])"
   ]
  },
  {
   "cell_type": "code",
   "execution_count": null,
   "metadata": {},
   "outputs": [],
   "source": []
  },
  {
   "cell_type": "code",
   "execution_count": 32,
   "metadata": {},
   "outputs": [
    {
     "name": "stdout",
     "output_type": "stream",
     "text": [
      "47\n",
      "{pt: 1.85, eta: -0.44, phi: -2.37, mass: 0}\n"
     ]
    }
   ],
   "source": [
    "print(len(t[0][0]))\n",
    "print(t[0][0][0])"
   ]
  },
  {
   "cell_type": "code",
   "execution_count": 14,
   "metadata": {},
   "outputs": [
    {
     "ename": "NameError",
     "evalue": "name 'jets' is not defined",
     "output_type": "error",
     "traceback": [
      "\u001b[0;31m---------------------------------------------------------------------------\u001b[0m",
      "\u001b[0;31mNameError\u001b[0m                                 Traceback (most recent call last)",
      "Cell \u001b[0;32mIn[14], line 1\u001b[0m\n\u001b[0;32m----> 1\u001b[0m \u001b[39mprint\u001b[39m(\u001b[39mmax\u001b[39m(ak\u001b[39m.\u001b[39mnum(jets, axis\u001b[39m=\u001b[39m\u001b[39m-\u001b[39m\u001b[39m2\u001b[39m)))\n",
      "\u001b[0;31mNameError\u001b[0m: name 'jets' is not defined"
     ]
    }
   ],
   "source": [
    "print(max(ak.num(jets, axis=-2)))\n"
   ]
  },
  {
   "cell_type": "code",
   "execution_count": 34,
   "metadata": {},
   "outputs": [
    {
     "data": {
      "text/plain": [
       "100000"
      ]
     },
     "execution_count": 34,
     "metadata": {},
     "output_type": "execute_result"
    }
   ],
   "source": [
    "len(t)"
   ]
  },
  {
   "cell_type": "code",
   "execution_count": 35,
   "metadata": {},
   "outputs": [
    {
     "name": "stdout",
     "output_type": "stream",
     "text": [
      "47\n",
      "{pt: 1.85, eta: -0.44, phi: -2.37, mass: 0}\n"
     ]
    }
   ],
   "source": [
    "print(len(t[0][0]))\n",
    "print(t[0][0][0])"
   ]
  },
  {
   "cell_type": "code",
   "execution_count": 15,
   "metadata": {},
   "outputs": [
    {
     "name": "stdout",
     "output_type": "stream",
     "text": [
      "100000 * var * var * Momentum4D[pt: float64, eta: float64, phi: float64, mass: float64]\n",
      "9\n",
      "[[{pt: 0.313, eta: -4.87, phi: -1.25, mass: 0}], ..., [{pt: 1.33, ...}, ...]]\n"
     ]
    }
   ],
   "source": [
    "print(t.type)\n",
    "print(len(consts[0]))\n",
    "print(consts[0])"
   ]
  },
  {
   "cell_type": "code",
   "execution_count": 152,
   "metadata": {},
   "outputs": [
    {
     "name": "stdout",
     "output_type": "stream",
     "text": [
      "100000 * var * union[var * Momentum4D[pt: float64, eta: float64, phi: float64, mass: float64], Momentum4D[pt: float64, eta: float64, phi: float64, mass: float64]]\n"
     ]
    }
   ],
   "source": [
    "# Pad the data with zeros to make it all the same length\n",
    "padded_data = ak.fill_none(ak.pad_none(t, 300, clip=False), ak.zip({\"pt\":0.0, \"eta\":0.0, \"phi\":0.0, \"mass\":0.0}, with_name=\"Momentum4D\"), axis=-2)\n",
    "#padded_data = ak.fill_none(ak.pad_none(consts, 300, clip=False), {\"pt\":0.0, \"eta\":0.0, \"phi\":0.0, \"mass\":0.0}, axis=-2)\n",
    "print(padded_data.type)"
   ]
  },
  {
   "cell_type": "code",
   "execution_count": 131,
   "metadata": {},
   "outputs": [
    {
     "name": "stdout",
     "output_type": "stream",
     "text": [
      "0\n",
      "[[{pt: 0.375, eta: 2.54, phi: -1.27, mass: 0}], ..., {pt: 0, eta: 0, ...}]\n"
     ]
    }
   ],
   "source": [
    "print(sum(ak.is_none(padded_data)))\n",
    "#print(sum(ak.is_none(padded_data[1])))\n",
    "print(padded_data[1])"
   ]
  },
  {
   "cell_type": "code",
   "execution_count": 120,
   "metadata": {},
   "outputs": [
    {
     "ename": "TypeError",
     "evalue": "Conversion of irreducible unions to backend arrays is not supported.\n\nThis error occurred while calling\n\n    ak.to_numpy(\n        <Array [[[{pt: 0.313, ...}], ...], ...] type='100000 * var * union[...'>\n    )",
     "output_type": "error",
     "traceback": [
      "\u001b[0;31m---------------------------------------------------------------------------\u001b[0m",
      "\u001b[0;31mTypeError\u001b[0m                                 Traceback (most recent call last)",
      "File \u001b[0;32m~/.conda/envs/pllhome/lib/python3.10/site-packages/awkward/_dispatch.py:43\u001b[0m, in \u001b[0;36mhigh_level_function.<locals>.dispatch\u001b[0;34m(*args, **kwargs)\u001b[0m\n\u001b[1;32m     42\u001b[0m \u001b[39mtry\u001b[39;00m:\n\u001b[0;32m---> 43\u001b[0m     \u001b[39mnext\u001b[39;49m(gen_or_result)\n\u001b[1;32m     44\u001b[0m \u001b[39mexcept\u001b[39;00m \u001b[39mStopIteration\u001b[39;00m \u001b[39mas\u001b[39;00m err:\n",
      "File \u001b[0;32m~/.conda/envs/pllhome/lib/python3.10/site-packages/awkward/operations/ak_to_numpy.py:44\u001b[0m, in \u001b[0;36mto_numpy\u001b[0;34m(array, allow_missing)\u001b[0m\n\u001b[1;32m     43\u001b[0m \u001b[39m# Implementation\u001b[39;00m\n\u001b[0;32m---> 44\u001b[0m \u001b[39mreturn\u001b[39;00m _impl(array, allow_missing)\n",
      "File \u001b[0;32m~/.conda/envs/pllhome/lib/python3.10/site-packages/awkward/operations/ak_to_numpy.py:56\u001b[0m, in \u001b[0;36m_impl\u001b[0;34m(array, allow_missing)\u001b[0m\n\u001b[1;32m     54\u001b[0m numpy_layout \u001b[39m=\u001b[39m layout\u001b[39m.\u001b[39mto_backend(backend)\n\u001b[0;32m---> 56\u001b[0m \u001b[39mreturn\u001b[39;00m numpy_layout\u001b[39m.\u001b[39;49mto_backend_array(allow_missing\u001b[39m=\u001b[39;49mallow_missing)\n",
      "File \u001b[0;32m~/.conda/envs/pllhome/lib/python3.10/site-packages/awkward/contents/content.py:1085\u001b[0m, in \u001b[0;36mContent.to_backend_array\u001b[0;34m(self, allow_missing, backend)\u001b[0m\n\u001b[1;32m   1084\u001b[0m     backend \u001b[39m=\u001b[39m regularize_backend(backend)\n\u001b[0;32m-> 1085\u001b[0m \u001b[39mreturn\u001b[39;00m \u001b[39mself\u001b[39;49m\u001b[39m.\u001b[39;49m_to_backend_array(allow_missing, backend)\n",
      "File \u001b[0;32m~/.conda/envs/pllhome/lib/python3.10/site-packages/awkward/contents/listoffsetarray.py:1998\u001b[0m, in \u001b[0;36mListOffsetArray._to_backend_array\u001b[0;34m(self, allow_missing, backend)\u001b[0m\n\u001b[1;32m   1997\u001b[0m \u001b[39melse\u001b[39;00m:\n\u001b[0;32m-> 1998\u001b[0m     \u001b[39mreturn\u001b[39;00m \u001b[39mself\u001b[39;49m\u001b[39m.\u001b[39;49mto_RegularArray()\u001b[39m.\u001b[39;49m_to_backend_array(allow_missing, backend)\n",
      "File \u001b[0;32m~/.conda/envs/pllhome/lib/python3.10/site-packages/awkward/contents/regulararray.py:1238\u001b[0m, in \u001b[0;36mRegularArray._to_backend_array\u001b[0;34m(self, allow_missing, backend)\u001b[0m\n\u001b[1;32m   1237\u001b[0m \u001b[39melse\u001b[39;00m:\n\u001b[0;32m-> 1238\u001b[0m     out \u001b[39m=\u001b[39m \u001b[39mself\u001b[39;49m\u001b[39m.\u001b[39;49m_content\u001b[39m.\u001b[39;49m_to_backend_array(allow_missing, backend)\n\u001b[1;32m   1239\u001b[0m     shape \u001b[39m=\u001b[39m (\u001b[39mself\u001b[39m\u001b[39m.\u001b[39m_length, \u001b[39mself\u001b[39m\u001b[39m.\u001b[39m_size) \u001b[39m+\u001b[39m out\u001b[39m.\u001b[39mshape[\u001b[39m1\u001b[39m:]\n",
      "File \u001b[0;32m~/.conda/envs/pllhome/lib/python3.10/site-packages/awkward/contents/unionarray.py:1520\u001b[0m, in \u001b[0;36mUnionArray._to_backend_array\u001b[0;34m(self, allow_missing, backend)\u001b[0m\n\u001b[1;32m   1519\u001b[0m \u001b[39mdef\u001b[39;00m \u001b[39m_to_backend_array\u001b[39m(\u001b[39mself\u001b[39m, allow_missing, backend):\n\u001b[0;32m-> 1520\u001b[0m     \u001b[39mraise\u001b[39;00m \u001b[39mTypeError\u001b[39;00m(\n\u001b[1;32m   1521\u001b[0m         \u001b[39m\"\u001b[39m\u001b[39mConversion of irreducible unions to backend arrays is not supported.\u001b[39m\u001b[39m\"\u001b[39m\n\u001b[1;32m   1522\u001b[0m     )\n",
      "\u001b[0;31mTypeError\u001b[0m: Conversion of irreducible unions to backend arrays is not supported.",
      "\nThe above exception was the direct cause of the following exception:\n",
      "\u001b[0;31mTypeError\u001b[0m                                 Traceback (most recent call last)",
      "Cell \u001b[0;32mIn[120], line 1\u001b[0m\n\u001b[0;32m----> 1\u001b[0m consts_numpy \u001b[39m=\u001b[39m ak\u001b[39m.\u001b[39;49mto_numpy(padded_data)\n",
      "File \u001b[0;32m~/.conda/envs/pllhome/lib/python3.10/site-packages/awkward/_dispatch.py:19\u001b[0m, in \u001b[0;36mhigh_level_function.<locals>.dispatch\u001b[0;34m(*args, **kwargs)\u001b[0m\n\u001b[1;32m     16\u001b[0m \u001b[39m@wraps\u001b[39m(func)\n\u001b[1;32m     17\u001b[0m \u001b[39mdef\u001b[39;00m \u001b[39mdispatch\u001b[39m(\u001b[39m*\u001b[39margs, \u001b[39m*\u001b[39m\u001b[39m*\u001b[39mkwargs):\n\u001b[1;32m     18\u001b[0m     \u001b[39m# NOTE: this decorator assumes that the operation is exposed under `ak.`\u001b[39;00m\n\u001b[0;32m---> 19\u001b[0m     \u001b[39mwith\u001b[39;00m OperationErrorContext(\u001b[39mf\u001b[39m\u001b[39m\"\u001b[39m\u001b[39mak.\u001b[39m\u001b[39m{\u001b[39;00mfunc\u001b[39m.\u001b[39m\u001b[39m__qualname__\u001b[39m\u001b[39m}\u001b[39;00m\u001b[39m\"\u001b[39m, args, kwargs):\n\u001b[1;32m     20\u001b[0m         gen_or_result \u001b[39m=\u001b[39m func(\u001b[39m*\u001b[39margs, \u001b[39m*\u001b[39m\u001b[39m*\u001b[39mkwargs)\n\u001b[1;32m     21\u001b[0m         \u001b[39mif\u001b[39;00m isgenerator(gen_or_result):\n",
      "File \u001b[0;32m~/.conda/envs/pllhome/lib/python3.10/site-packages/awkward/_errors.py:63\u001b[0m, in \u001b[0;36mErrorContext.__exit__\u001b[0;34m(self, exception_type, exception_value, traceback)\u001b[0m\n\u001b[1;32m     60\u001b[0m \u001b[39mtry\u001b[39;00m:\n\u001b[1;32m     61\u001b[0m     \u001b[39m# Handle caught exception\u001b[39;00m\n\u001b[1;32m     62\u001b[0m     \u001b[39mif\u001b[39;00m exception_type \u001b[39mis\u001b[39;00m \u001b[39mnot\u001b[39;00m \u001b[39mNone\u001b[39;00m \u001b[39mand\u001b[39;00m \u001b[39mself\u001b[39m\u001b[39m.\u001b[39mprimary() \u001b[39mis\u001b[39;00m \u001b[39mself\u001b[39m:\n\u001b[0;32m---> 63\u001b[0m         \u001b[39mself\u001b[39;49m\u001b[39m.\u001b[39;49mhandle_exception(exception_type, exception_value)\n\u001b[1;32m     64\u001b[0m \u001b[39mfinally\u001b[39;00m:\n\u001b[1;32m     65\u001b[0m     \u001b[39m# `_kwargs` may hold cyclic references, that we really want to avoid\u001b[39;00m\n\u001b[1;32m     66\u001b[0m     \u001b[39m# as this can lead to large buffers remaining in memory for longer than absolutely necessary\u001b[39;00m\n\u001b[1;32m     67\u001b[0m     \u001b[39m# Let's just clear this, now.\u001b[39;00m\n\u001b[1;32m     68\u001b[0m     \u001b[39mself\u001b[39m\u001b[39m.\u001b[39m_kwargs\u001b[39m.\u001b[39mclear()\n",
      "File \u001b[0;32m~/.conda/envs/pllhome/lib/python3.10/site-packages/awkward/_errors.py:78\u001b[0m, in \u001b[0;36mErrorContext.handle_exception\u001b[0;34m(self, cls, exception)\u001b[0m\n\u001b[1;32m     76\u001b[0m     \u001b[39mself\u001b[39m\u001b[39m.\u001b[39mdecorate_exception(\u001b[39mcls\u001b[39m, exception)\n\u001b[1;32m     77\u001b[0m \u001b[39melse\u001b[39;00m:\n\u001b[0;32m---> 78\u001b[0m     \u001b[39mraise\u001b[39;00m \u001b[39mself\u001b[39m\u001b[39m.\u001b[39mdecorate_exception(\u001b[39mcls\u001b[39m, exception)\n",
      "\u001b[0;31mTypeError\u001b[0m: Conversion of irreducible unions to backend arrays is not supported.\n\nThis error occurred while calling\n\n    ak.to_numpy(\n        <Array [[[{pt: 0.313, ...}], ...], ...] type='100000 * var * union[...'>\n    )"
     ]
    }
   ],
   "source": [
    "consts_numpy = ak.to_numpy(padded_data)"
   ]
  },
  {
   "cell_type": "code",
   "execution_count": 71,
   "metadata": {},
   "outputs": [
    {
     "name": "stdout",
     "output_type": "stream",
     "text": [
      "[[{pt: 0.269, eta: -4.28, phi: -0.752, mass: 0}], [{pt: 0.543, ...}], ..., None]\n"
     ]
    }
   ],
   "source": [
    "print(padded_data[70437])"
   ]
  },
  {
   "cell_type": "code",
   "execution_count": 74,
   "metadata": {},
   "outputs": [
    {
     "name": "stdout",
     "output_type": "stream",
     "text": [
      "100000\n"
     ]
    }
   ],
   "source": [
    "print(sum(ak.num(padded_data)==300))"
   ]
  },
  {
   "cell_type": "code",
   "execution_count": 73,
   "metadata": {},
   "outputs": [
    {
     "name": "stdout",
     "output_type": "stream",
     "text": [
      "0\n"
     ]
    }
   ],
   "source": [
    "print(ak.argmax(ak.num(padded_data)))"
   ]
  },
  {
   "cell_type": "code",
   "execution_count": 46,
   "metadata": {},
   "outputs": [
    {
     "name": "stdout",
     "output_type": "stream",
     "text": [
      "300\n"
     ]
    }
   ],
   "source": [
    "print(len(padded_data[3]))"
   ]
  },
  {
   "cell_type": "code",
   "execution_count": 41,
   "metadata": {},
   "outputs": [
    {
     "ename": "ValueError",
     "evalue": "cannot convert to RegularArray because subarray lengths are not regular (in compiled code: https://github.com/scikit-hep/awkward/blob/awkward-cpp-21/awkward-cpp/src/cpu-kernels/awkward_ListOffsetArray_toRegularArray.cpp#L22)\n\nThis error occurred while calling\n\n    ak.to_numpy(\n        <MomentumArray4D [[{pt: 1.84, ...}, ..., {...}], ...] type='100000 ...'>\n    )",
     "output_type": "error",
     "traceback": [
      "\u001b[0;31m---------------------------------------------------------------------------\u001b[0m",
      "\u001b[0;31mValueError\u001b[0m                                Traceback (most recent call last)",
      "File \u001b[0;32m~/.conda/envs/pllhome/lib/python3.10/site-packages/awkward/_dispatch.py:43\u001b[0m, in \u001b[0;36mhigh_level_function.<locals>.dispatch\u001b[0;34m(*args, **kwargs)\u001b[0m\n\u001b[1;32m     42\u001b[0m \u001b[39mtry\u001b[39;00m:\n\u001b[0;32m---> 43\u001b[0m     \u001b[39mnext\u001b[39;49m(gen_or_result)\n\u001b[1;32m     44\u001b[0m \u001b[39mexcept\u001b[39;00m \u001b[39mStopIteration\u001b[39;00m \u001b[39mas\u001b[39;00m err:\n",
      "File \u001b[0;32m~/.conda/envs/pllhome/lib/python3.10/site-packages/awkward/operations/ak_to_numpy.py:44\u001b[0m, in \u001b[0;36mto_numpy\u001b[0;34m(array, allow_missing)\u001b[0m\n\u001b[1;32m     43\u001b[0m \u001b[39m# Implementation\u001b[39;00m\n\u001b[0;32m---> 44\u001b[0m \u001b[39mreturn\u001b[39;00m _impl(array, allow_missing)\n",
      "File \u001b[0;32m~/.conda/envs/pllhome/lib/python3.10/site-packages/awkward/operations/ak_to_numpy.py:56\u001b[0m, in \u001b[0;36m_impl\u001b[0;34m(array, allow_missing)\u001b[0m\n\u001b[1;32m     54\u001b[0m numpy_layout \u001b[39m=\u001b[39m layout\u001b[39m.\u001b[39mto_backend(backend)\n\u001b[0;32m---> 56\u001b[0m \u001b[39mreturn\u001b[39;00m numpy_layout\u001b[39m.\u001b[39;49mto_backend_array(allow_missing\u001b[39m=\u001b[39;49mallow_missing)\n",
      "File \u001b[0;32m~/.conda/envs/pllhome/lib/python3.10/site-packages/awkward/contents/content.py:1085\u001b[0m, in \u001b[0;36mContent.to_backend_array\u001b[0;34m(self, allow_missing, backend)\u001b[0m\n\u001b[1;32m   1084\u001b[0m     backend \u001b[39m=\u001b[39m regularize_backend(backend)\n\u001b[0;32m-> 1085\u001b[0m \u001b[39mreturn\u001b[39;00m \u001b[39mself\u001b[39;49m\u001b[39m.\u001b[39;49m_to_backend_array(allow_missing, backend)\n",
      "File \u001b[0;32m~/.conda/envs/pllhome/lib/python3.10/site-packages/awkward/contents/listoffsetarray.py:1998\u001b[0m, in \u001b[0;36mListOffsetArray._to_backend_array\u001b[0;34m(self, allow_missing, backend)\u001b[0m\n\u001b[1;32m   1997\u001b[0m \u001b[39melse\u001b[39;00m:\n\u001b[0;32m-> 1998\u001b[0m     \u001b[39mreturn\u001b[39;00m \u001b[39mself\u001b[39;49m\u001b[39m.\u001b[39;49mto_RegularArray()\u001b[39m.\u001b[39m_to_backend_array(allow_missing, backend)\n",
      "File \u001b[0;32m~/.conda/envs/pllhome/lib/python3.10/site-packages/awkward/contents/listoffsetarray.py:275\u001b[0m, in \u001b[0;36mListOffsetArray.to_RegularArray\u001b[0;34m(self)\u001b[0m\n\u001b[1;32m    271\u001b[0m \u001b[39massert\u001b[39;00m (\n\u001b[1;32m    272\u001b[0m     _size\u001b[39m.\u001b[39mnplike \u001b[39mis\u001b[39;00m \u001b[39mself\u001b[39m\u001b[39m.\u001b[39m_backend\u001b[39m.\u001b[39mindex_nplike\n\u001b[1;32m    273\u001b[0m     \u001b[39mand\u001b[39;00m \u001b[39mself\u001b[39m\u001b[39m.\u001b[39m_offsets\u001b[39m.\u001b[39mnplike \u001b[39mis\u001b[39;00m \u001b[39mself\u001b[39m\u001b[39m.\u001b[39m_backend\u001b[39m.\u001b[39mindex_nplike\n\u001b[1;32m    274\u001b[0m )\n\u001b[0;32m--> 275\u001b[0m \u001b[39mself\u001b[39;49m\u001b[39m.\u001b[39;49m_backend\u001b[39m.\u001b[39;49mmaybe_kernel_error(\n\u001b[1;32m    276\u001b[0m     \u001b[39mself\u001b[39;49m\u001b[39m.\u001b[39;49m_backend[\n\u001b[1;32m    277\u001b[0m         \u001b[39m\"\u001b[39;49m\u001b[39mawkward_ListOffsetArray_toRegularArray\u001b[39;49m\u001b[39m\"\u001b[39;49m,\n\u001b[1;32m    278\u001b[0m         _size\u001b[39m.\u001b[39;49mdtype\u001b[39m.\u001b[39;49mtype,\n\u001b[1;32m    279\u001b[0m         \u001b[39mself\u001b[39;49m\u001b[39m.\u001b[39;49m_offsets\u001b[39m.\u001b[39;49mdtype\u001b[39m.\u001b[39;49mtype,\n\u001b[1;32m    280\u001b[0m     ](\n\u001b[1;32m    281\u001b[0m         _size\u001b[39m.\u001b[39;49mdata,\n\u001b[1;32m    282\u001b[0m         \u001b[39mself\u001b[39;49m\u001b[39m.\u001b[39;49m_offsets\u001b[39m.\u001b[39;49mdata,\n\u001b[1;32m    283\u001b[0m         \u001b[39mself\u001b[39;49m\u001b[39m.\u001b[39;49m_offsets\u001b[39m.\u001b[39;49mlength,\n\u001b[1;32m    284\u001b[0m     )\n\u001b[1;32m    285\u001b[0m )\n\u001b[1;32m    286\u001b[0m size \u001b[39m=\u001b[39m \u001b[39mself\u001b[39m\u001b[39m.\u001b[39m_backend\u001b[39m.\u001b[39mindex_nplike\u001b[39m.\u001b[39mindex_as_shape_item(_size[\u001b[39m0\u001b[39m])\n",
      "File \u001b[0;32m~/.conda/envs/pllhome/lib/python3.10/site-packages/awkward/_backends/backend.py:72\u001b[0m, in \u001b[0;36mBackend.maybe_kernel_error\u001b[0;34m(self, error)\u001b[0m\n\u001b[1;32m     71\u001b[0m \u001b[39melse\u001b[39;00m:\n\u001b[0;32m---> 72\u001b[0m     \u001b[39mraise\u001b[39;00m \u001b[39mValueError\u001b[39;00m(\u001b[39mself\u001b[39m\u001b[39m.\u001b[39mformat_kernel_error(error))\n",
      "\u001b[0;31mValueError\u001b[0m: cannot convert to RegularArray because subarray lengths are not regular (in compiled code: https://github.com/scikit-hep/awkward/blob/awkward-cpp-21/awkward-cpp/src/cpu-kernels/awkward_ListOffsetArray_toRegularArray.cpp#L22)",
      "\nThe above exception was the direct cause of the following exception:\n",
      "\u001b[0;31mValueError\u001b[0m                                Traceback (most recent call last)",
      "Cell \u001b[0;32mIn[41], line 1\u001b[0m\n\u001b[0;32m----> 1\u001b[0m data_numpy \u001b[39m=\u001b[39m ak\u001b[39m.\u001b[39;49mto_numpy(padded_data)\n",
      "File \u001b[0;32m~/.conda/envs/pllhome/lib/python3.10/site-packages/awkward/_dispatch.py:19\u001b[0m, in \u001b[0;36mhigh_level_function.<locals>.dispatch\u001b[0;34m(*args, **kwargs)\u001b[0m\n\u001b[1;32m     16\u001b[0m \u001b[39m@wraps\u001b[39m(func)\n\u001b[1;32m     17\u001b[0m \u001b[39mdef\u001b[39;00m \u001b[39mdispatch\u001b[39m(\u001b[39m*\u001b[39margs, \u001b[39m*\u001b[39m\u001b[39m*\u001b[39mkwargs):\n\u001b[1;32m     18\u001b[0m     \u001b[39m# NOTE: this decorator assumes that the operation is exposed under `ak.`\u001b[39;00m\n\u001b[0;32m---> 19\u001b[0m     \u001b[39mwith\u001b[39;00m OperationErrorContext(\u001b[39mf\u001b[39m\u001b[39m\"\u001b[39m\u001b[39mak.\u001b[39m\u001b[39m{\u001b[39;00mfunc\u001b[39m.\u001b[39m\u001b[39m__qualname__\u001b[39m\u001b[39m}\u001b[39;00m\u001b[39m\"\u001b[39m, args, kwargs):\n\u001b[1;32m     20\u001b[0m         gen_or_result \u001b[39m=\u001b[39m func(\u001b[39m*\u001b[39margs, \u001b[39m*\u001b[39m\u001b[39m*\u001b[39mkwargs)\n\u001b[1;32m     21\u001b[0m         \u001b[39mif\u001b[39;00m isgenerator(gen_or_result):\n",
      "File \u001b[0;32m~/.conda/envs/pllhome/lib/python3.10/site-packages/awkward/_errors.py:63\u001b[0m, in \u001b[0;36mErrorContext.__exit__\u001b[0;34m(self, exception_type, exception_value, traceback)\u001b[0m\n\u001b[1;32m     60\u001b[0m \u001b[39mtry\u001b[39;00m:\n\u001b[1;32m     61\u001b[0m     \u001b[39m# Handle caught exception\u001b[39;00m\n\u001b[1;32m     62\u001b[0m     \u001b[39mif\u001b[39;00m exception_type \u001b[39mis\u001b[39;00m \u001b[39mnot\u001b[39;00m \u001b[39mNone\u001b[39;00m \u001b[39mand\u001b[39;00m \u001b[39mself\u001b[39m\u001b[39m.\u001b[39mprimary() \u001b[39mis\u001b[39;00m \u001b[39mself\u001b[39m:\n\u001b[0;32m---> 63\u001b[0m         \u001b[39mself\u001b[39;49m\u001b[39m.\u001b[39;49mhandle_exception(exception_type, exception_value)\n\u001b[1;32m     64\u001b[0m \u001b[39mfinally\u001b[39;00m:\n\u001b[1;32m     65\u001b[0m     \u001b[39m# `_kwargs` may hold cyclic references, that we really want to avoid\u001b[39;00m\n\u001b[1;32m     66\u001b[0m     \u001b[39m# as this can lead to large buffers remaining in memory for longer than absolutely necessary\u001b[39;00m\n\u001b[1;32m     67\u001b[0m     \u001b[39m# Let's just clear this, now.\u001b[39;00m\n\u001b[1;32m     68\u001b[0m     \u001b[39mself\u001b[39m\u001b[39m.\u001b[39m_kwargs\u001b[39m.\u001b[39mclear()\n",
      "File \u001b[0;32m~/.conda/envs/pllhome/lib/python3.10/site-packages/awkward/_errors.py:78\u001b[0m, in \u001b[0;36mErrorContext.handle_exception\u001b[0;34m(self, cls, exception)\u001b[0m\n\u001b[1;32m     76\u001b[0m     \u001b[39mself\u001b[39m\u001b[39m.\u001b[39mdecorate_exception(\u001b[39mcls\u001b[39m, exception)\n\u001b[1;32m     77\u001b[0m \u001b[39melse\u001b[39;00m:\n\u001b[0;32m---> 78\u001b[0m     \u001b[39mraise\u001b[39;00m \u001b[39mself\u001b[39m\u001b[39m.\u001b[39mdecorate_exception(\u001b[39mcls\u001b[39m, exception)\n",
      "\u001b[0;31mValueError\u001b[0m: cannot convert to RegularArray because subarray lengths are not regular (in compiled code: https://github.com/scikit-hep/awkward/blob/awkward-cpp-21/awkward-cpp/src/cpu-kernels/awkward_ListOffsetArray_toRegularArray.cpp#L22)\n\nThis error occurred while calling\n\n    ak.to_numpy(\n        <MomentumArray4D [[{pt: 1.84, ...}, ..., {...}], ...] type='100000 ...'>\n    )"
     ]
    }
   ],
   "source": [
    "data_numpy = ak.to_numpy(padded_data)"
   ]
  },
  {
   "cell_type": "code",
   "execution_count": null,
   "metadata": {},
   "outputs": [],
   "source": [
    "# remove zero-padded particles\n",
    "# creation of the awkward array takes some time\n",
    "trimmed_array = []\n",
    "for evt in tqdm(qcd_data):\n",
    "    trimmed = evt[~np.all(evt == 0, axis=-1)]\n",
    "    trimmed_array.append(trimmed)\n",
    "data_temp = ak.Array(trimmed_array)"
   ]
  },
  {
   "cell_type": "code",
   "execution_count": 9,
   "metadata": {},
   "outputs": [
    {
     "name": "stdout",
     "output_type": "stream",
     "text": [
      "(1000, 700, 3)\n",
      "(1000, 700, 4)\n"
     ]
    }
   ],
   "source": [
    "print(qcd_data.shape)\n",
    "xyze_data = ef.p4s_from_ptyphims(qcd_data)\n",
    "print(xyze_data.shape)"
   ]
  },
  {
   "cell_type": "code",
   "execution_count": 18,
   "metadata": {},
   "outputs": [
    {
     "name": "stdout",
     "output_type": "stream",
     "text": [
      "[[[1.84, -2.36, 0.368], [1.32, -2.46, 0.798], ..., [0, ..., 0], [0, 0, 0]], ...]\n"
     ]
    },
    {
     "ename": "KeyboardInterrupt",
     "evalue": "\n\nThis error occurred while calling\n\n    ak.zip(\n        {'px': 0.0, 'py': 0.0, 'pz': 0.0, 'E': 0.0}\n    )",
     "output_type": "error",
     "traceback": [
      "\u001b[0;31m---------------------------------------------------------------------------\u001b[0m",
      "\u001b[0;31mTypeError\u001b[0m                                 Traceback (most recent call last)",
      "File \u001b[0;32m~/.conda/envs/pllhome/lib/python3.10/site-packages/awkward/operations/ak_zip.py:178\u001b[0m, in \u001b[0;36m_impl\u001b[0;34m(arrays, depth_limit, parameters, with_name, right_broadcast, optiontype_outside_record, highlevel, behavior)\u001b[0m\n\u001b[1;32m    177\u001b[0m \u001b[39mtry\u001b[39;00m:\n\u001b[0;32m--> 178\u001b[0m     layout \u001b[39m=\u001b[39m ak\u001b[39m.\u001b[39;49moperations\u001b[39m.\u001b[39;49mto_layout(\n\u001b[1;32m    179\u001b[0m         x, allow_record\u001b[39m=\u001b[39;49m\u001b[39mFalse\u001b[39;49;00m, allow_other\u001b[39m=\u001b[39;49m\u001b[39mFalse\u001b[39;49;00m\n\u001b[1;32m    180\u001b[0m     )\n\u001b[1;32m    181\u001b[0m \u001b[39mexcept\u001b[39;00m \u001b[39mTypeError\u001b[39;00m:\n",
      "File \u001b[0;32m~/.conda/envs/pllhome/lib/python3.10/site-packages/awkward/_dispatch.py:43\u001b[0m, in \u001b[0;36mhigh_level_function.<locals>.dispatch\u001b[0;34m(*args, **kwargs)\u001b[0m\n\u001b[1;32m     42\u001b[0m \u001b[39mtry\u001b[39;00m:\n\u001b[0;32m---> 43\u001b[0m     \u001b[39mnext\u001b[39;49m(gen_or_result)\n\u001b[1;32m     44\u001b[0m \u001b[39mexcept\u001b[39;00m \u001b[39mStopIteration\u001b[39;00m \u001b[39mas\u001b[39;00m err:\n",
      "File \u001b[0;32m~/.conda/envs/pllhome/lib/python3.10/site-packages/awkward/operations/ak_to_layout.py:48\u001b[0m, in \u001b[0;36mto_layout\u001b[0;34m(array, allow_record, allow_other, regulararray)\u001b[0m\n\u001b[1;32m     47\u001b[0m \u001b[39m# Implementation\u001b[39;00m\n\u001b[0;32m---> 48\u001b[0m \u001b[39mreturn\u001b[39;00m _impl(array, allow_record, allow_other, regulararray\u001b[39m=\u001b[39;49mregulararray)\n",
      "File \u001b[0;32m~/.conda/envs/pllhome/lib/python3.10/site-packages/awkward/operations/ak_to_layout.py:117\u001b[0m, in \u001b[0;36m_impl\u001b[0;34m(array, allow_record, allow_other, regulararray)\u001b[0m\n\u001b[1;32m    116\u001b[0m \u001b[39melif\u001b[39;00m \u001b[39mnot\u001b[39;00m allow_other:\n\u001b[0;32m--> 117\u001b[0m     \u001b[39mraise\u001b[39;00m \u001b[39mTypeError\u001b[39;00m(\n\u001b[1;32m    118\u001b[0m         \u001b[39mf\u001b[39m\u001b[39m\"\u001b[39m\u001b[39m{\u001b[39;00marray\u001b[39m}\u001b[39;00m\u001b[39m cannot be converted into an Awkward Array, and non-array-like objects are not supported.\u001b[39m\u001b[39m\"\u001b[39m\n\u001b[1;32m    119\u001b[0m     )\n\u001b[1;32m    121\u001b[0m \u001b[39melse\u001b[39;00m:\n",
      "\u001b[0;31mTypeError\u001b[0m: 0.0 cannot be converted into an Awkward Array, and non-array-like objects are not supported.",
      "\nDuring handling of the above exception, another exception occurred:\n",
      "\u001b[0;31mKeyboardInterrupt\u001b[0m                         Traceback (most recent call last)",
      "File \u001b[0;32m~/.conda/envs/pllhome/lib/python3.10/site-packages/awkward/_dispatch.py:43\u001b[0m, in \u001b[0;36mhigh_level_function.<locals>.dispatch\u001b[0;34m(*args, **kwargs)\u001b[0m\n\u001b[1;32m     42\u001b[0m \u001b[39mtry\u001b[39;00m:\n\u001b[0;32m---> 43\u001b[0m     \u001b[39mnext\u001b[39;49m(gen_or_result)\n\u001b[1;32m     44\u001b[0m \u001b[39mexcept\u001b[39;00m \u001b[39mStopIteration\u001b[39;00m \u001b[39mas\u001b[39;00m err:\n",
      "File \u001b[0;32m~/.conda/envs/pllhome/lib/python3.10/site-packages/awkward/operations/ak_zip.py:145\u001b[0m, in \u001b[0;36mzip\u001b[0;34m(arrays, depth_limit, parameters, with_name, right_broadcast, optiontype_outside_record, highlevel, behavior)\u001b[0m\n\u001b[1;32m    144\u001b[0m \u001b[39m# Implementation\u001b[39;00m\n\u001b[0;32m--> 145\u001b[0m \u001b[39mreturn\u001b[39;00m _impl(\n\u001b[1;32m    146\u001b[0m     arrays,\n\u001b[1;32m    147\u001b[0m     depth_limit,\n\u001b[1;32m    148\u001b[0m     parameters,\n\u001b[1;32m    149\u001b[0m     with_name,\n\u001b[1;32m    150\u001b[0m     right_broadcast,\n\u001b[1;32m    151\u001b[0m     optiontype_outside_record,\n\u001b[1;32m    152\u001b[0m     highlevel,\n\u001b[1;32m    153\u001b[0m     behavior,\n\u001b[1;32m    154\u001b[0m )\n",
      "File \u001b[0;32m~/.conda/envs/pllhome/lib/python3.10/site-packages/awkward/operations/ak_zip.py:183\u001b[0m, in \u001b[0;36m_impl\u001b[0;34m(arrays, depth_limit, parameters, with_name, right_broadcast, optiontype_outside_record, highlevel, behavior)\u001b[0m\n\u001b[1;32m    182\u001b[0m     num_scalars \u001b[39m+\u001b[39m\u001b[39m=\u001b[39m \u001b[39m1\u001b[39m\n\u001b[0;32m--> 183\u001b[0m     layout \u001b[39m=\u001b[39m ak\u001b[39m.\u001b[39;49moperations\u001b[39m.\u001b[39;49mto_layout(\n\u001b[1;32m    184\u001b[0m         [x], allow_record\u001b[39m=\u001b[39;49m\u001b[39mFalse\u001b[39;49;00m, allow_other\u001b[39m=\u001b[39;49m\u001b[39mFalse\u001b[39;49;00m\n\u001b[1;32m    185\u001b[0m     )\n\u001b[1;32m    186\u001b[0m layouts\u001b[39m.\u001b[39mappend(layout)\n",
      "File \u001b[0;32m~/.conda/envs/pllhome/lib/python3.10/site-packages/awkward/_dispatch.py:43\u001b[0m, in \u001b[0;36mhigh_level_function.<locals>.dispatch\u001b[0;34m(*args, **kwargs)\u001b[0m\n\u001b[1;32m     42\u001b[0m \u001b[39mtry\u001b[39;00m:\n\u001b[0;32m---> 43\u001b[0m     \u001b[39mnext\u001b[39;49m(gen_or_result)\n\u001b[1;32m     44\u001b[0m \u001b[39mexcept\u001b[39;00m \u001b[39mStopIteration\u001b[39;00m \u001b[39mas\u001b[39;00m err:\n",
      "File \u001b[0;32m~/.conda/envs/pllhome/lib/python3.10/site-packages/awkward/operations/ak_to_layout.py:48\u001b[0m, in \u001b[0;36mto_layout\u001b[0;34m(array, allow_record, allow_other, regulararray)\u001b[0m\n\u001b[1;32m     47\u001b[0m \u001b[39m# Implementation\u001b[39;00m\n\u001b[0;32m---> 48\u001b[0m \u001b[39mreturn\u001b[39;00m _impl(array, allow_record, allow_other, regulararray\u001b[39m=\u001b[39;49mregulararray)\n",
      "File \u001b[0;32m~/.conda/envs/pllhome/lib/python3.10/site-packages/awkward/operations/ak_to_layout.py:110\u001b[0m, in \u001b[0;36m_impl\u001b[0;34m(array, allow_record, allow_other, regulararray)\u001b[0m\n\u001b[1;32m    108\u001b[0m \u001b[39melif\u001b[39;00m \u001b[39misinstance\u001b[39m(array, Iterable):\n\u001b[1;32m    109\u001b[0m     \u001b[39mreturn\u001b[39;00m _impl(\n\u001b[0;32m--> 110\u001b[0m         ak\u001b[39m.\u001b[39;49moperations\u001b[39m.\u001b[39;49mfrom_iter(array, highlevel\u001b[39m=\u001b[39;49m\u001b[39mFalse\u001b[39;49;00m),\n\u001b[1;32m    111\u001b[0m         allow_record,\n\u001b[1;32m    112\u001b[0m         allow_other,\n\u001b[1;32m    113\u001b[0m         regulararray,\n\u001b[1;32m    114\u001b[0m     )\n\u001b[1;32m    116\u001b[0m \u001b[39melif\u001b[39;00m \u001b[39mnot\u001b[39;00m allow_other:\n",
      "File \u001b[0;32m~/.conda/envs/pllhome/lib/python3.10/site-packages/awkward/_dispatch.py:20\u001b[0m, in \u001b[0;36mhigh_level_function.<locals>.dispatch\u001b[0;34m(*args, **kwargs)\u001b[0m\n\u001b[1;32m     19\u001b[0m \u001b[39mwith\u001b[39;00m OperationErrorContext(\u001b[39mf\u001b[39m\u001b[39m\"\u001b[39m\u001b[39mak.\u001b[39m\u001b[39m{\u001b[39;00mfunc\u001b[39m.\u001b[39m\u001b[39m__qualname__\u001b[39m\u001b[39m}\u001b[39;00m\u001b[39m\"\u001b[39m, args, kwargs):\n\u001b[0;32m---> 20\u001b[0m     gen_or_result \u001b[39m=\u001b[39m func(\u001b[39m*\u001b[39;49margs, \u001b[39m*\u001b[39;49m\u001b[39m*\u001b[39;49mkwargs)\n\u001b[1;32m     21\u001b[0m     \u001b[39mif\u001b[39;00m isgenerator(gen_or_result):\n",
      "File \u001b[0;32m~/.conda/envs/pllhome/lib/python3.10/site-packages/awkward/operations/ak_from_iter.py:63\u001b[0m, in \u001b[0;36mfrom_iter\u001b[0;34m(iterable, allow_record, highlevel, behavior, initial, resize)\u001b[0m\n\u001b[1;32m     24\u001b[0m \u001b[39m\u001b[39m\u001b[39m\"\"\"\u001b[39;00m\n\u001b[1;32m     25\u001b[0m \u001b[39mArgs:\u001b[39;00m\n\u001b[1;32m     26\u001b[0m \u001b[39m    iterable (Python iterable): Data to convert into an Awkward Array.\u001b[39;00m\n\u001b[0;32m   (...)\u001b[0m\n\u001b[1;32m     61\u001b[0m \u001b[39mSee also #ak.to_list.\u001b[39;00m\n\u001b[1;32m     62\u001b[0m \u001b[39m\"\"\"\u001b[39;00m\n\u001b[0;32m---> 63\u001b[0m \u001b[39mreturn\u001b[39;00m _impl(iterable, highlevel, behavior, allow_record, initial, resize)\n",
      "File \u001b[0;32m~/.conda/envs/pllhome/lib/python3.10/site-packages/awkward/operations/ak_from_iter.py:97\u001b[0m, in \u001b[0;36m_impl\u001b[0;34m(iterable, highlevel, behavior, allow_record, initial, resize)\u001b[0m\n\u001b[1;32m     95\u001b[0m form \u001b[39m=\u001b[39m ak\u001b[39m.\u001b[39mforms\u001b[39m.\u001b[39mfrom_json(formstr)\n\u001b[0;32m---> 97\u001b[0m \u001b[39mreturn\u001b[39;00m ak\u001b[39m.\u001b[39;49moperations\u001b[39m.\u001b[39;49mak_from_buffers\u001b[39m.\u001b[39;49m_impl(\n\u001b[1;32m     98\u001b[0m     form,\n\u001b[1;32m     99\u001b[0m     length,\n\u001b[1;32m    100\u001b[0m     buffers,\n\u001b[1;32m    101\u001b[0m     buffer_key\u001b[39m=\u001b[39;49m\u001b[39m\"\u001b[39;49m\u001b[39m{form_key}\u001b[39;49;00m\u001b[39m-\u001b[39;49m\u001b[39m{attribute}\u001b[39;49;00m\u001b[39m\"\u001b[39;49m,\n\u001b[1;32m    102\u001b[0m     backend\u001b[39m=\u001b[39;49m\u001b[39m\"\u001b[39;49m\u001b[39mcpu\u001b[39;49m\u001b[39m\"\u001b[39;49m,\n\u001b[1;32m    103\u001b[0m     byteorder\u001b[39m=\u001b[39;49mak\u001b[39m.\u001b[39;49m_util\u001b[39m.\u001b[39;49mnative_byteorder,\n\u001b[1;32m    104\u001b[0m     highlevel\u001b[39m=\u001b[39;49mhighlevel,\n\u001b[1;32m    105\u001b[0m     behavior\u001b[39m=\u001b[39;49mbehavior,\n\u001b[1;32m    106\u001b[0m     simplify\u001b[39m=\u001b[39;49m\u001b[39mTrue\u001b[39;49;00m,\n\u001b[1;32m    107\u001b[0m )[\u001b[39m0\u001b[39m]\n",
      "File \u001b[0;32m~/.conda/envs/pllhome/lib/python3.10/site-packages/awkward/operations/ak_from_buffers.py:135\u001b[0m, in \u001b[0;36m_impl\u001b[0;34m(form, length, container, buffer_key, backend, byteorder, highlevel, behavior, simplify)\u001b[0m\n\u001b[1;32m    134\u001b[0m out \u001b[39m=\u001b[39m _reconstitute(form, length, container, getkey, backend, byteorder, simplify)\n\u001b[0;32m--> 135\u001b[0m \u001b[39mreturn\u001b[39;00m wrap_layout(out, behavior, highlevel)\n",
      "File \u001b[0;32m~/.conda/envs/pllhome/lib/python3.10/site-packages/awkward/_layout.py:24\u001b[0m, in \u001b[0;36mwrap_layout\u001b[0;34m(content, behavior, highlevel, like, allow_other)\u001b[0m\n\u001b[1;32m     22\u001b[0m \u001b[39mfrom\u001b[39;00m \u001b[39mawkward\u001b[39;00m\u001b[39m.\u001b[39;00m\u001b[39mrecord\u001b[39;00m \u001b[39mimport\u001b[39;00m Record\n\u001b[0;32m---> 24\u001b[0m \u001b[39massert\u001b[39;00m content \u001b[39mis\u001b[39;00m \u001b[39mNone\u001b[39;00m \u001b[39mor\u001b[39;00m \u001b[39misinstance\u001b[39;49m(content, (Content, Record)) \u001b[39mor\u001b[39;00m allow_other\n\u001b[1;32m     25\u001b[0m \u001b[39massert\u001b[39;00m behavior \u001b[39mis\u001b[39;00m \u001b[39mNone\u001b[39;00m \u001b[39mor\u001b[39;00m \u001b[39misinstance\u001b[39m(behavior, Mapping)\n",
      "\u001b[0;31mKeyboardInterrupt\u001b[0m: ",
      "\nThe above exception was the direct cause of the following exception:\n",
      "\u001b[0;31mKeyboardInterrupt\u001b[0m                         Traceback (most recent call last)",
      "Cell \u001b[0;32mIn[18], line 7\u001b[0m\n\u001b[1;32m      5\u001b[0m data2_temp \u001b[39m=\u001b[39m []\n\u001b[1;32m      6\u001b[0m \u001b[39mfor\u001b[39;00m i \u001b[39min\u001b[39;00m \u001b[39mrange\u001b[39m(\u001b[39mlen\u001b[39m(xyze)):\n\u001b[0;32m----> 7\u001b[0m     data_temp \u001b[39m=\u001b[39m ak\u001b[39m.\u001b[39;49mzip({\u001b[39m\"\u001b[39;49m\u001b[39mpx\u001b[39;49m\u001b[39m\"\u001b[39;49m: xyze[i,\u001b[39m0\u001b[39;49m], \u001b[39m\"\u001b[39;49m\u001b[39mpy\u001b[39;49m\u001b[39m\"\u001b[39;49m: xyze[i,\u001b[39m1\u001b[39;49m], \u001b[39m\"\u001b[39;49m\u001b[39mpz\u001b[39;49m\u001b[39m\"\u001b[39;49m: xyze[i,\u001b[39m2\u001b[39;49m], \u001b[39m\"\u001b[39;49m\u001b[39mE\u001b[39;49m\u001b[39m\"\u001b[39;49m: xyze[i,\u001b[39m3\u001b[39;49m]})\n\u001b[1;32m      8\u001b[0m     \u001b[39mif\u001b[39;00m xyze[i,\u001b[39m0\u001b[39m] \u001b[39m!=\u001b[39m \u001b[39m0\u001b[39m:\n\u001b[1;32m      9\u001b[0m         data2_temp\u001b[39m.\u001b[39mappend(data_temp)\n",
      "File \u001b[0;32m~/.conda/envs/pllhome/lib/python3.10/site-packages/awkward/_dispatch.py:19\u001b[0m, in \u001b[0;36mhigh_level_function.<locals>.dispatch\u001b[0;34m(*args, **kwargs)\u001b[0m\n\u001b[1;32m     16\u001b[0m \u001b[39m@wraps\u001b[39m(func)\n\u001b[1;32m     17\u001b[0m \u001b[39mdef\u001b[39;00m \u001b[39mdispatch\u001b[39m(\u001b[39m*\u001b[39margs, \u001b[39m*\u001b[39m\u001b[39m*\u001b[39mkwargs):\n\u001b[1;32m     18\u001b[0m     \u001b[39m# NOTE: this decorator assumes that the operation is exposed under `ak.`\u001b[39;00m\n\u001b[0;32m---> 19\u001b[0m     \u001b[39mwith\u001b[39;00m OperationErrorContext(\u001b[39mf\u001b[39m\u001b[39m\"\u001b[39m\u001b[39mak.\u001b[39m\u001b[39m{\u001b[39;00mfunc\u001b[39m.\u001b[39m\u001b[39m__qualname__\u001b[39m\u001b[39m}\u001b[39;00m\u001b[39m\"\u001b[39m, args, kwargs):\n\u001b[1;32m     20\u001b[0m         gen_or_result \u001b[39m=\u001b[39m func(\u001b[39m*\u001b[39margs, \u001b[39m*\u001b[39m\u001b[39m*\u001b[39mkwargs)\n\u001b[1;32m     21\u001b[0m         \u001b[39mif\u001b[39;00m isgenerator(gen_or_result):\n",
      "File \u001b[0;32m~/.conda/envs/pllhome/lib/python3.10/site-packages/awkward/_errors.py:63\u001b[0m, in \u001b[0;36mErrorContext.__exit__\u001b[0;34m(self, exception_type, exception_value, traceback)\u001b[0m\n\u001b[1;32m     60\u001b[0m \u001b[39mtry\u001b[39;00m:\n\u001b[1;32m     61\u001b[0m     \u001b[39m# Handle caught exception\u001b[39;00m\n\u001b[1;32m     62\u001b[0m     \u001b[39mif\u001b[39;00m exception_type \u001b[39mis\u001b[39;00m \u001b[39mnot\u001b[39;00m \u001b[39mNone\u001b[39;00m \u001b[39mand\u001b[39;00m \u001b[39mself\u001b[39m\u001b[39m.\u001b[39mprimary() \u001b[39mis\u001b[39;00m \u001b[39mself\u001b[39m:\n\u001b[0;32m---> 63\u001b[0m         \u001b[39mself\u001b[39;49m\u001b[39m.\u001b[39;49mhandle_exception(exception_type, exception_value)\n\u001b[1;32m     64\u001b[0m \u001b[39mfinally\u001b[39;00m:\n\u001b[1;32m     65\u001b[0m     \u001b[39m# `_kwargs` may hold cyclic references, that we really want to avoid\u001b[39;00m\n\u001b[1;32m     66\u001b[0m     \u001b[39m# as this can lead to large buffers remaining in memory for longer than absolutely necessary\u001b[39;00m\n\u001b[1;32m     67\u001b[0m     \u001b[39m# Let's just clear this, now.\u001b[39;00m\n\u001b[1;32m     68\u001b[0m     \u001b[39mself\u001b[39m\u001b[39m.\u001b[39m_kwargs\u001b[39m.\u001b[39mclear()\n",
      "File \u001b[0;32m~/.conda/envs/pllhome/lib/python3.10/site-packages/awkward/_errors.py:78\u001b[0m, in \u001b[0;36mErrorContext.handle_exception\u001b[0;34m(self, cls, exception)\u001b[0m\n\u001b[1;32m     76\u001b[0m     \u001b[39mself\u001b[39m\u001b[39m.\u001b[39mdecorate_exception(\u001b[39mcls\u001b[39m, exception)\n\u001b[1;32m     77\u001b[0m \u001b[39melse\u001b[39;00m:\n\u001b[0;32m---> 78\u001b[0m     \u001b[39mraise\u001b[39;00m \u001b[39mself\u001b[39m\u001b[39m.\u001b[39mdecorate_exception(\u001b[39mcls\u001b[39m, exception)\n",
      "\u001b[0;31mKeyboardInterrupt\u001b[0m: \n\nThis error occurred while calling\n\n    ak.zip(\n        {'px': 0.0, 'py': 0.0, 'pz': 0.0, 'E': 0.0}\n    )"
     ]
    }
   ],
   "source": [
    "data = ak.from_numpy(qcd_data)\n",
    "print(data)\n",
    "data = []\n",
    "for xyze in xyze_data:\n",
    "    data2_temp = []\n",
    "    for i in range(len(xyze)):\n",
    "        data_temp = ak.zip({\"px\": xyze[i,0], \"py\": xyze[i,1], \"pz\": xyze[i,2], \"E\": xyze[i,3]})\n",
    "        if xyze[i,0] != 0:\n",
    "            data2_temp.append(data_temp)\n",
    "    data.append(data2_temp)\n",
    "print(data)"
   ]
  },
  {
   "cell_type": "code",
   "execution_count": 120,
   "metadata": {},
   "outputs": [
    {
     "name": "stdout",
     "output_type": "stream",
     "text": [
      "(100000, 700, 3)\n"
     ]
    }
   ],
   "source": [
    "print(qcd_data.shape)\n",
    "qcd2 = qcd_data.copy()\n",
    "qcd2 = np.dtype([('pt', 'f4'), ('eta', 'f4'), ('phi', 'f4'), ('mass', 'f4')])\n",
    "print(qcd_data[1])"
   ]
  },
  {
   "cell_type": "code",
   "execution_count": 117,
   "metadata": {},
   "outputs": [
    {
     "name": "stdout",
     "output_type": "stream",
     "text": [
      "(100000, 700, 3)\n",
      "(100000, 700, 1)\n"
     ]
    },
    {
     "name": "stderr",
     "output_type": "stream",
     "text": [
      "100%|██████████| 100000/100000 [00:02<00:00, 36625.77it/s]\n"
     ]
    }
   ],
   "source": [
    "print(qcd_data.shape)\n",
    "zrs = np.zeros((qcd_data.shape[0],qcd_data.shape[1],1))\n",
    "print(zrs.shape)\n",
    "qcd_data_with_mass = np.concatenate((qcd_data,zrs),axis=-1)\n",
    "#zrs = qcd_data[~np.all(qcd_data == 0, axis=-1)]\n",
    "#print(zrs.shape)\n",
    "#t = np.trim_zeros(qcd_data[0,0])\n",
    "trimmed_array = []\n",
    "for evt in tqdm(qcd_data):\n",
    "    trimmed = evt[~np.all(evt == 0, axis=-1)]\n",
    "    trimmed_array.append(trimmed)\n",
    "    #print(trimmed.shape)\n",
    "    #awk_temp = ak.zip({\"pt\": trimmed[:,0], \"eta\": trimmed[:,1], \"phi\": trimmed[:,2], \"mass\": 0})\n",
    "    #trimmed_array.append(awk_temp)\n",
    "#print(trimmed_array[125])\n",
    "vector.register_awkward()\n",
    "data_final = ak.Array(trimmed_array)\n",
    "#data = ak.zip({\"pt\": trimmed_array[:,:,0], \"eta\": trimmed_array[:,:,1], \"phi\": trimmed_array[:,:,2], \"mass\": trimmed_array[:,:,3]})\n",
    "#print(data_final)\n",
    "#print(data_final.type)\n",
    "#print(ak.fields(data_final))"
   ]
  },
  {
   "cell_type": "code",
   "execution_count": 148,
   "metadata": {},
   "outputs": [
    {
     "name": "stdout",
     "output_type": "stream",
     "text": [
      "[]\n",
      "[[1.84, 1.32, 7.52, 6.52, 2.11, 0.659, ..., 7.17, 5.71, 17.7, 11.8, 15.2], ...]\n",
      "100000 * var * Momentum4D[pt: float64, eta: float64, phi: float64, mass: int64]\n",
      "['pt', 'eta', 'phi', 'mass']\n",
      "0.953230619430542\n",
      "142\n",
      "[ 0.95323062 -2.31241965 -0.23961659]\n"
     ]
    }
   ],
   "source": [
    "print(ak.fields(data_final))\n",
    "print(data_final[:,:,0])\n",
    "vector.register_awkward()\n",
    "data_final2 = ak.zip({\"pt\": data_final[:,:,0], \"eta\": data_final[:,:,1], \"phi\": data_final[:,:,2], \"mass\": 0},with_name=\"Momentum4D\")\n",
    "print(data_final2.type)\n",
    "print(data_final2.fields)\n",
    "print(data_final2[1][0].pt)\n",
    "print(np.count_nonzero(qcd_data[1,:,0]))\n",
    "print(qcd_data[1,0,:])"
   ]
  },
  {
   "cell_type": "code",
   "execution_count": 115,
   "metadata": {},
   "outputs": [
    {
     "name": "stdout",
     "output_type": "stream",
     "text": [
      "(100000, 700, 3)\n",
      "(100000, 700, 1)\n"
     ]
    },
    {
     "name": "stderr",
     "output_type": "stream",
     "text": [
      "100%|██████████| 100000/100000 [00:47<00:00, 2116.65it/s]\n"
     ]
    },
    {
     "ename": "KeyboardInterrupt",
     "evalue": "\n\nThis error occurred while calling\n\n    ak.to_layout(\n        list-instance\n        allow_record = False\n        regulararray = False\n    )",
     "output_type": "error",
     "traceback": [
      "\u001b[0;31m---------------------------------------------------------------------------\u001b[0m",
      "\u001b[0;31mKeyboardInterrupt\u001b[0m                         Traceback (most recent call last)",
      "File \u001b[0;32m~/.conda/envs/pllhome/lib/python3.10/site-packages/awkward/_dispatch.py:43\u001b[0m, in \u001b[0;36mhigh_level_function.<locals>.dispatch\u001b[0;34m(*args, **kwargs)\u001b[0m\n\u001b[1;32m     42\u001b[0m \u001b[39mtry\u001b[39;00m:\n\u001b[0;32m---> 43\u001b[0m     \u001b[39mnext\u001b[39;49m(gen_or_result)\n\u001b[1;32m     44\u001b[0m \u001b[39mexcept\u001b[39;00m \u001b[39mStopIteration\u001b[39;00m \u001b[39mas\u001b[39;00m err:\n",
      "File \u001b[0;32m~/.conda/envs/pllhome/lib/python3.10/site-packages/awkward/operations/ak_to_layout.py:48\u001b[0m, in \u001b[0;36mto_layout\u001b[0;34m(array, allow_record, allow_other, regulararray)\u001b[0m\n\u001b[1;32m     47\u001b[0m \u001b[39m# Implementation\u001b[39;00m\n\u001b[0;32m---> 48\u001b[0m \u001b[39mreturn\u001b[39;00m _impl(array, allow_record, allow_other, regulararray\u001b[39m=\u001b[39;49mregulararray)\n",
      "File \u001b[0;32m~/.conda/envs/pllhome/lib/python3.10/site-packages/awkward/operations/ak_to_layout.py:110\u001b[0m, in \u001b[0;36m_impl\u001b[0;34m(array, allow_record, allow_other, regulararray)\u001b[0m\n\u001b[1;32m    108\u001b[0m \u001b[39melif\u001b[39;00m \u001b[39misinstance\u001b[39m(array, Iterable):\n\u001b[1;32m    109\u001b[0m     \u001b[39mreturn\u001b[39;00m _impl(\n\u001b[0;32m--> 110\u001b[0m         ak\u001b[39m.\u001b[39;49moperations\u001b[39m.\u001b[39;49mfrom_iter(array, highlevel\u001b[39m=\u001b[39;49m\u001b[39mFalse\u001b[39;49;00m),\n\u001b[1;32m    111\u001b[0m         allow_record,\n\u001b[1;32m    112\u001b[0m         allow_other,\n\u001b[1;32m    113\u001b[0m         regulararray,\n\u001b[1;32m    114\u001b[0m     )\n\u001b[1;32m    116\u001b[0m \u001b[39melif\u001b[39;00m \u001b[39mnot\u001b[39;00m allow_other:\n",
      "File \u001b[0;32m~/.conda/envs/pllhome/lib/python3.10/site-packages/awkward/_dispatch.py:20\u001b[0m, in \u001b[0;36mhigh_level_function.<locals>.dispatch\u001b[0;34m(*args, **kwargs)\u001b[0m\n\u001b[1;32m     19\u001b[0m \u001b[39mwith\u001b[39;00m OperationErrorContext(\u001b[39mf\u001b[39m\u001b[39m\"\u001b[39m\u001b[39mak.\u001b[39m\u001b[39m{\u001b[39;00mfunc\u001b[39m.\u001b[39m\u001b[39m__qualname__\u001b[39m\u001b[39m}\u001b[39;00m\u001b[39m\"\u001b[39m, args, kwargs):\n\u001b[0;32m---> 20\u001b[0m     gen_or_result \u001b[39m=\u001b[39m func(\u001b[39m*\u001b[39;49margs, \u001b[39m*\u001b[39;49m\u001b[39m*\u001b[39;49mkwargs)\n\u001b[1;32m     21\u001b[0m     \u001b[39mif\u001b[39;00m isgenerator(gen_or_result):\n",
      "File \u001b[0;32m~/.conda/envs/pllhome/lib/python3.10/site-packages/awkward/operations/ak_from_iter.py:63\u001b[0m, in \u001b[0;36mfrom_iter\u001b[0;34m(iterable, allow_record, highlevel, behavior, initial, resize)\u001b[0m\n\u001b[1;32m     24\u001b[0m \u001b[39m\u001b[39m\u001b[39m\"\"\"\u001b[39;00m\n\u001b[1;32m     25\u001b[0m \u001b[39mArgs:\u001b[39;00m\n\u001b[1;32m     26\u001b[0m \u001b[39m    iterable (Python iterable): Data to convert into an Awkward Array.\u001b[39;00m\n\u001b[0;32m   (...)\u001b[0m\n\u001b[1;32m     61\u001b[0m \u001b[39mSee also #ak.to_list.\u001b[39;00m\n\u001b[1;32m     62\u001b[0m \u001b[39m\"\"\"\u001b[39;00m\n\u001b[0;32m---> 63\u001b[0m \u001b[39mreturn\u001b[39;00m _impl(iterable, highlevel, behavior, allow_record, initial, resize)\n",
      "File \u001b[0;32m~/.conda/envs/pllhome/lib/python3.10/site-packages/awkward/operations/ak_from_iter.py:92\u001b[0m, in \u001b[0;36m_impl\u001b[0;34m(iterable, highlevel, behavior, allow_record, initial, resize)\u001b[0m\n\u001b[1;32m     91\u001b[0m builder \u001b[39m=\u001b[39m _ext\u001b[39m.\u001b[39mArrayBuilder(initial\u001b[39m=\u001b[39minitial, resize\u001b[39m=\u001b[39mresize)\n\u001b[0;32m---> 92\u001b[0m builder\u001b[39m.\u001b[39;49mfromiter(iterable)\n\u001b[1;32m     94\u001b[0m formstr, length, buffers \u001b[39m=\u001b[39m builder\u001b[39m.\u001b[39mto_buffers()\n",
      "File \u001b[0;32m~/.conda/envs/pllhome/lib/python3.10/site-packages/awkward/highlevel.py:1651\u001b[0m, in \u001b[0;36mRecord.to_list\u001b[0;34m(self)\u001b[0m\n\u001b[1;32m   1648\u001b[0m \u001b[39m\u001b[39m\u001b[39m\"\"\"\u001b[39;00m\n\u001b[1;32m   1649\u001b[0m \u001b[39mConverts this Record into Python objects; same as #ak.to_list.\u001b[39;00m\n\u001b[1;32m   1650\u001b[0m \u001b[39m\"\"\"\u001b[39;00m\n\u001b[0;32m-> 1651\u001b[0m \u001b[39mreturn\u001b[39;00m \u001b[39mself\u001b[39;49m\u001b[39m.\u001b[39;49m_layout\u001b[39m.\u001b[39;49mto_list(\u001b[39mself\u001b[39;49m\u001b[39m.\u001b[39;49m_behavior)\n",
      "File \u001b[0;32m~/.conda/envs/pllhome/lib/python3.10/site-packages/awkward/record.py:202\u001b[0m, in \u001b[0;36mRecord.to_list\u001b[0;34m(self, behavior)\u001b[0m\n\u001b[1;32m    201\u001b[0m \u001b[39mdef\u001b[39;00m \u001b[39mto_list\u001b[39m(\u001b[39mself\u001b[39m, behavior\u001b[39m=\u001b[39m\u001b[39mNone\u001b[39;00m):\n\u001b[0;32m--> 202\u001b[0m     \u001b[39mreturn\u001b[39;00m \u001b[39mself\u001b[39;49m\u001b[39m.\u001b[39;49m_to_list(behavior, \u001b[39mNone\u001b[39;49;00m)\n",
      "File \u001b[0;32m~/.conda/envs/pllhome/lib/python3.10/site-packages/awkward/record.py:223\u001b[0m, in \u001b[0;36mRecord._to_list\u001b[0;34m(self, behavior, json_conversions)\u001b[0m\n\u001b[1;32m    222\u001b[0m \u001b[39melse\u001b[39;00m:\n\u001b[0;32m--> 223\u001b[0m     contents \u001b[39m=\u001b[39m [\n\u001b[1;32m    224\u001b[0m         content[\u001b[39mself\u001b[39m\u001b[39m.\u001b[39m_at : \u001b[39mself\u001b[39m\u001b[39m.\u001b[39m_at \u001b[39m+\u001b[39m \u001b[39m1\u001b[39m]\u001b[39m.\u001b[39m_to_list(behavior, json_conversions)[\u001b[39m0\u001b[39m]\n\u001b[1;32m    225\u001b[0m         \u001b[39mfor\u001b[39;00m content \u001b[39min\u001b[39;00m \u001b[39mself\u001b[39m\u001b[39m.\u001b[39m_array\u001b[39m.\u001b[39mcontents\n\u001b[1;32m    226\u001b[0m     ]\n\u001b[1;32m    228\u001b[0m \u001b[39mif\u001b[39;00m \u001b[39mself\u001b[39m\u001b[39m.\u001b[39mis_tuple \u001b[39mand\u001b[39;00m json_conversions \u001b[39mis\u001b[39;00m \u001b[39mNone\u001b[39;00m:\n",
      "File \u001b[0;32m~/.conda/envs/pllhome/lib/python3.10/site-packages/awkward/record.py:224\u001b[0m, in \u001b[0;36m<listcomp>\u001b[0;34m(.0)\u001b[0m\n\u001b[1;32m    222\u001b[0m \u001b[39melse\u001b[39;00m:\n\u001b[1;32m    223\u001b[0m     contents \u001b[39m=\u001b[39m [\n\u001b[0;32m--> 224\u001b[0m         content[\u001b[39mself\u001b[39;49m\u001b[39m.\u001b[39;49m_at : \u001b[39mself\u001b[39;49m\u001b[39m.\u001b[39;49m_at \u001b[39m+\u001b[39;49m \u001b[39m1\u001b[39;49m]\u001b[39m.\u001b[39m_to_list(behavior, json_conversions)[\u001b[39m0\u001b[39m]\n\u001b[1;32m    225\u001b[0m         \u001b[39mfor\u001b[39;00m content \u001b[39min\u001b[39;00m \u001b[39mself\u001b[39m\u001b[39m.\u001b[39m_array\u001b[39m.\u001b[39mcontents\n\u001b[1;32m    226\u001b[0m     ]\n\u001b[1;32m    228\u001b[0m \u001b[39mif\u001b[39;00m \u001b[39mself\u001b[39m\u001b[39m.\u001b[39mis_tuple \u001b[39mand\u001b[39;00m json_conversions \u001b[39mis\u001b[39;00m \u001b[39mNone\u001b[39;00m:\n",
      "File \u001b[0;32m~/.conda/envs/pllhome/lib/python3.10/site-packages/awkward/contents/content.py:525\u001b[0m, in \u001b[0;36mContent.__getitem__\u001b[0;34m(self, where)\u001b[0m\n\u001b[1;32m    524\u001b[0m \u001b[39mdef\u001b[39;00m \u001b[39m__getitem__\u001b[39m(\u001b[39mself\u001b[39m, where):\n\u001b[0;32m--> 525\u001b[0m     \u001b[39mreturn\u001b[39;00m \u001b[39mself\u001b[39;49m\u001b[39m.\u001b[39;49m_getitem(where)\n",
      "File \u001b[0;32m~/.conda/envs/pllhome/lib/python3.10/site-packages/awkward/contents/content.py:528\u001b[0m, in \u001b[0;36mContent._getitem\u001b[0;34m(self, where)\u001b[0m\n\u001b[1;32m    527\u001b[0m \u001b[39mdef\u001b[39;00m \u001b[39m_getitem\u001b[39m(\u001b[39mself\u001b[39m, where):\n\u001b[0;32m--> 528\u001b[0m     \u001b[39mif\u001b[39;00m is_integer_like(where):\n\u001b[1;32m    529\u001b[0m         \u001b[39mreturn\u001b[39;00m \u001b[39mself\u001b[39m\u001b[39m.\u001b[39m_getitem_at(ak\u001b[39m.\u001b[39m_slicing\u001b[39m.\u001b[39mnormalize_integer_like(where))\n",
      "File \u001b[0;32m~/.conda/envs/pllhome/lib/python3.10/site-packages/awkward/_regularize.py:35\u001b[0m, in \u001b[0;36mis_integer_like\u001b[0;34m(x)\u001b[0m\n\u001b[1;32m     33\u001b[0m \u001b[39mdef\u001b[39;00m \u001b[39mis_integer_like\u001b[39m(x) \u001b[39m-\u001b[39m\u001b[39m>\u001b[39m \u001b[39mbool\u001b[39m:\n\u001b[1;32m     34\u001b[0m     \u001b[39m# Integral types\u001b[39;00m\n\u001b[0;32m---> 35\u001b[0m     \u001b[39mif\u001b[39;00m \u001b[39misinstance\u001b[39;49m(x, numbers\u001b[39m.\u001b[39;49mIntegral):\n\u001b[1;32m     36\u001b[0m         \u001b[39mreturn\u001b[39;00m \u001b[39mnot\u001b[39;00m \u001b[39misinstance\u001b[39m(x, \u001b[39mbool\u001b[39m)\n",
      "File \u001b[0;32m~/.conda/envs/pllhome/lib/python3.10/abc.py:117\u001b[0m, in \u001b[0;36mABCMeta.__instancecheck__\u001b[0;34m(cls, instance)\u001b[0m\n\u001b[1;32m    115\u001b[0m     \u001b[39mreturn\u001b[39;00m _abc_register(\u001b[39mcls\u001b[39m, subclass)\n\u001b[0;32m--> 117\u001b[0m \u001b[39mdef\u001b[39;00m \u001b[39m__instancecheck__\u001b[39m(\u001b[39mcls\u001b[39m, instance):\n\u001b[1;32m    118\u001b[0m \u001b[39m    \u001b[39m\u001b[39m\"\"\"Override for isinstance(instance, cls).\"\"\"\u001b[39;00m\n",
      "\u001b[0;31mKeyboardInterrupt\u001b[0m: ",
      "\nThe above exception was the direct cause of the following exception:\n",
      "\u001b[0;31mKeyboardInterrupt\u001b[0m                         Traceback (most recent call last)",
      "Cell \u001b[0;32mIn[115], line 16\u001b[0m\n\u001b[1;32m     14\u001b[0m \u001b[39m#print(trimmed_array[125])\u001b[39;00m\n\u001b[1;32m     15\u001b[0m vector\u001b[39m.\u001b[39mregister_awkward()\n\u001b[0;32m---> 16\u001b[0m data_final \u001b[39m=\u001b[39m ak\u001b[39m.\u001b[39;49mArray(trimmed_array, with_name\u001b[39m=\u001b[39;49m\u001b[39m\"\u001b[39;49m\u001b[39mMomentum4D\u001b[39;49m\u001b[39m\"\u001b[39;49m)\n\u001b[1;32m     17\u001b[0m \u001b[39m#data = ak.zip({\"pt\": trimmed_array[:,:,0], \"eta\": trimmed_array[:,:,1], \"phi\": trimmed_array[:,:,2], \"mass\": trimmed_array[:,:,3]})\u001b[39;00m\n\u001b[1;32m     18\u001b[0m \u001b[39mprint\u001b[39m(data_final)\n",
      "File \u001b[0;32m~/.conda/envs/pllhome/lib/python3.10/site-packages/awkward/highlevel.py:233\u001b[0m, in \u001b[0;36mArray.__init__\u001b[0;34m(self, data, behavior, with_name, check_valid, backend)\u001b[0m\n\u001b[1;32m    230\u001b[0m     layout \u001b[39m=\u001b[39m ak\u001b[39m.\u001b[39moperations\u001b[39m.\u001b[39mfrom_json(data, highlevel\u001b[39m=\u001b[39m\u001b[39mFalse\u001b[39;00m)\n\u001b[1;32m    232\u001b[0m \u001b[39melse\u001b[39;00m:\n\u001b[0;32m--> 233\u001b[0m     layout \u001b[39m=\u001b[39m ak\u001b[39m.\u001b[39;49moperations\u001b[39m.\u001b[39;49mto_layout(\n\u001b[1;32m    234\u001b[0m         data, allow_record\u001b[39m=\u001b[39;49m\u001b[39mFalse\u001b[39;49;00m, regulararray\u001b[39m=\u001b[39;49m\u001b[39mFalse\u001b[39;49;00m\n\u001b[1;32m    235\u001b[0m     )\n\u001b[1;32m    237\u001b[0m \u001b[39mif\u001b[39;00m \u001b[39mnot\u001b[39;00m \u001b[39misinstance\u001b[39m(layout, ak\u001b[39m.\u001b[39mcontents\u001b[39m.\u001b[39mContent):\n\u001b[1;32m    238\u001b[0m     \u001b[39mraise\u001b[39;00m \u001b[39mTypeError\u001b[39;00m(\u001b[39m\"\u001b[39m\u001b[39mcould not convert data into an ak.Array\u001b[39m\u001b[39m\"\u001b[39m)\n",
      "File \u001b[0;32m~/.conda/envs/pllhome/lib/python3.10/site-packages/awkward/_dispatch.py:19\u001b[0m, in \u001b[0;36mhigh_level_function.<locals>.dispatch\u001b[0;34m(*args, **kwargs)\u001b[0m\n\u001b[1;32m     16\u001b[0m \u001b[39m@wraps\u001b[39m(func)\n\u001b[1;32m     17\u001b[0m \u001b[39mdef\u001b[39;00m \u001b[39mdispatch\u001b[39m(\u001b[39m*\u001b[39margs, \u001b[39m*\u001b[39m\u001b[39m*\u001b[39mkwargs):\n\u001b[1;32m     18\u001b[0m     \u001b[39m# NOTE: this decorator assumes that the operation is exposed under `ak.`\u001b[39;00m\n\u001b[0;32m---> 19\u001b[0m     \u001b[39mwith\u001b[39;00m OperationErrorContext(\u001b[39mf\u001b[39m\u001b[39m\"\u001b[39m\u001b[39mak.\u001b[39m\u001b[39m{\u001b[39;00mfunc\u001b[39m.\u001b[39m\u001b[39m__qualname__\u001b[39m\u001b[39m}\u001b[39;00m\u001b[39m\"\u001b[39m, args, kwargs):\n\u001b[1;32m     20\u001b[0m         gen_or_result \u001b[39m=\u001b[39m func(\u001b[39m*\u001b[39margs, \u001b[39m*\u001b[39m\u001b[39m*\u001b[39mkwargs)\n\u001b[1;32m     21\u001b[0m         \u001b[39mif\u001b[39;00m isgenerator(gen_or_result):\n",
      "File \u001b[0;32m~/.conda/envs/pllhome/lib/python3.10/site-packages/awkward/_errors.py:63\u001b[0m, in \u001b[0;36mErrorContext.__exit__\u001b[0;34m(self, exception_type, exception_value, traceback)\u001b[0m\n\u001b[1;32m     60\u001b[0m \u001b[39mtry\u001b[39;00m:\n\u001b[1;32m     61\u001b[0m     \u001b[39m# Handle caught exception\u001b[39;00m\n\u001b[1;32m     62\u001b[0m     \u001b[39mif\u001b[39;00m exception_type \u001b[39mis\u001b[39;00m \u001b[39mnot\u001b[39;00m \u001b[39mNone\u001b[39;00m \u001b[39mand\u001b[39;00m \u001b[39mself\u001b[39m\u001b[39m.\u001b[39mprimary() \u001b[39mis\u001b[39;00m \u001b[39mself\u001b[39m:\n\u001b[0;32m---> 63\u001b[0m         \u001b[39mself\u001b[39;49m\u001b[39m.\u001b[39;49mhandle_exception(exception_type, exception_value)\n\u001b[1;32m     64\u001b[0m \u001b[39mfinally\u001b[39;00m:\n\u001b[1;32m     65\u001b[0m     \u001b[39m# `_kwargs` may hold cyclic references, that we really want to avoid\u001b[39;00m\n\u001b[1;32m     66\u001b[0m     \u001b[39m# as this can lead to large buffers remaining in memory for longer than absolutely necessary\u001b[39;00m\n\u001b[1;32m     67\u001b[0m     \u001b[39m# Let's just clear this, now.\u001b[39;00m\n\u001b[1;32m     68\u001b[0m     \u001b[39mself\u001b[39m\u001b[39m.\u001b[39m_kwargs\u001b[39m.\u001b[39mclear()\n",
      "File \u001b[0;32m~/.conda/envs/pllhome/lib/python3.10/site-packages/awkward/_errors.py:78\u001b[0m, in \u001b[0;36mErrorContext.handle_exception\u001b[0;34m(self, cls, exception)\u001b[0m\n\u001b[1;32m     76\u001b[0m     \u001b[39mself\u001b[39m\u001b[39m.\u001b[39mdecorate_exception(\u001b[39mcls\u001b[39m, exception)\n\u001b[1;32m     77\u001b[0m \u001b[39melse\u001b[39;00m:\n\u001b[0;32m---> 78\u001b[0m     \u001b[39mraise\u001b[39;00m \u001b[39mself\u001b[39m\u001b[39m.\u001b[39mdecorate_exception(\u001b[39mcls\u001b[39m, exception)\n",
      "\u001b[0;31mKeyboardInterrupt\u001b[0m: \n\nThis error occurred while calling\n\n    ak.to_layout(\n        list-instance\n        allow_record = False\n        regulararray = False\n    )"
     ]
    }
   ],
   "source": [
    "print(qcd_data.shape)\n",
    "zrs = np.zeros((qcd_data.shape[0],qcd_data.shape[1],1))\n",
    "print(zrs.shape)\n",
    "qcd_data_with_mass = np.concatenate((qcd_data,zrs),axis=-1)\n",
    "#zrs = qcd_data[~np.all(qcd_data == 0, axis=-1)]\n",
    "#print(zrs.shape)\n",
    "#t = np.trim_zeros(qcd_data[0,0])\n",
    "trimmed_array = []\n",
    "for evt in tqdm(qcd_data):\n",
    "    trimmed = evt[~np.all(evt == 0, axis=-1)]\n",
    "    #print(trimmed.shape)\n",
    "    awk_temp = ak.zip({\"pt\": trimmed[:,0], \"eta\": trimmed[:,1], \"phi\": trimmed[:,2], \"mass\": 0})\n",
    "    trimmed_array.append(awk_temp)\n",
    "#print(trimmed_array[125])\n",
    "vector.register_awkward()\n",
    "data_final = ak.Array(trimmed_array, with_name=\"Momentum4D\")\n",
    "#data = ak.zip({\"pt\": trimmed_array[:,:,0], \"eta\": trimmed_array[:,:,1], \"phi\": trimmed_array[:,:,2], \"mass\": trimmed_array[:,:,3]})\n",
    "print(data_final)\n",
    "print(data_final.type)\n",
    "print(ak.fields(data_final))\n"
   ]
  },
  {
   "cell_type": "code",
   "execution_count": 113,
   "metadata": {},
   "outputs": [
    {
     "name": "stdout",
     "output_type": "stream",
     "text": [
      "[{pt: 1.84, eta: 1.32, phi: 7.52, mass: 0}, ..., {pt: 0.368, eta: 0.798, ...}]\n",
      "[{pt: 0.953, eta: 0.243, phi: 0.427, mass: 0}, ..., {pt: -0.24, eta: ..., ...}]\n",
      "[{pt: 0.822, eta: 11.5, phi: 20.7, mass: 0}, ..., {pt: -0.0988, eta: 2.45, ...}]\n",
      "[{pt: 0.49, eta: 0.416, phi: 1.49, mass: 0}, ..., {pt: 2.12, eta: -2.94, ...}]\n",
      "[{pt: 1.09, eta: 3.38, phi: 1.36, mass: 0}, ..., {pt: -0.0137, eta: ..., ...}]\n",
      "[{pt: 0.283, eta: 0.641, phi: 0.598, mass: 0}, ..., {pt: 2.24, eta: 1.04, ...}]\n",
      "[{pt: 2.44, eta: 1.92, phi: 0.483, mass: 0}, ..., {pt: -0.612, eta: ..., ...}]\n",
      "[{pt: 0.278, eta: 1.08, phi: 3.62, mass: 0}, ..., {pt: 0.0666, eta: ..., ...}]\n",
      "[{pt: 0.216, eta: 0.897, phi: 0.384, mass: 0}, ..., {pt: 2.88, eta: 2.61, ...}]\n",
      "[{pt: 0.196, eta: 0.511, phi: 0.759, mass: 0}, ..., {pt: -1.36, eta: ..., ...}]\n"
     ]
    }
   ],
   "source": [
    "for i in data_final[:10]:\n",
    "    print(i)"
   ]
  },
  {
   "cell_type": "code",
   "execution_count": null,
   "metadata": {},
   "outputs": [],
   "source": [
    "\n",
    "data = ak.zip({\"pt\": qcd_data2[:,:,0], \"eta\": qcd_data2[:,:,1], \"phi\": qcd_data2[:,:,2], \"mass\": qcd_data2[:,:,3]},with_name=\"Momentum4D\")\n",
    "print(data)"
   ]
  },
  {
   "cell_type": "code",
   "execution_count": 34,
   "metadata": {},
   "outputs": [
    {
     "name": "stdout",
     "output_type": "stream",
     "text": [
      "2 * var * {px: float64, py: float64, pz: float64, E: float64}\n",
      "['px', 'py', 'pz', 'E']\n"
     ]
    }
   ],
   "source": [
    "import vector\n",
    "vector.register_awkward()\n",
    "\n",
    "data = ak.Array(\n",
    "    [[\n",
    "        {\"px\": 1.2, \"py\": 3.2, \"pz\": 5.4, \"E\": 23.5},\n",
    "        {\"px\": 32.2, \"py\": 64.21, \"pz\": 543.34, \"E\": 755.12},\n",
    "        {\"px\": 32.45, \"py\": 63.21, \"pz\": 543.14, \"E\": 835.56},\n",
    "    ],[\n",
    "        {\"px\": 1.2, \"py\": 3.2, \"pz\": 5.4, \"E\": 23.5},\n",
    "        {\"px\": 32.2, \"py\": 64.21, \"pz\": 543.34, \"E\": 755.12},\n",
    "        {\"px\": 32.45, \"py\": 63.21, \"pz\": 543.14, \"E\": 835.56},\n",
    "    ]],\n",
    ")\n",
    "print(data.type)\n",
    "print(ak.fields(data))"
   ]
  },
  {
   "cell_type": "code",
   "execution_count": null,
   "metadata": {},
   "outputs": [],
   "source": []
  },
  {
   "cell_type": "code",
   "execution_count": null,
   "metadata": {},
   "outputs": [],
   "source": []
  },
  {
   "cell_type": "code",
   "execution_count": 10,
   "metadata": {},
   "outputs": [
    {
     "name": "stdout",
     "output_type": "stream",
     "text": [
      "(1000, 700, 1)\n",
      "(1000, 700, 4)\n",
      "[[{pt: 1.84, eta: -2.36, phi: 0.368, mass: 0}, {...}, ..., {pt: 0, ...}], ...]\n"
     ]
    }
   ],
   "source": [
    "\n",
    "zrs = np.zeros((qcd_data.shape[0],qcd_data.shape[1],1))\n",
    "print(zrs.shape)\n",
    "qcd_data2 = np.concatenate((qcd_data,zrs),axis=-1)\n",
    "print(qcd_data2.shape)\n",
    "vector.register_awkward()\n",
    "data = ak.zip({\"pt\": qcd_data2[:,:,0], \"eta\": qcd_data2[:,:,1], \"phi\": qcd_data2[:,:,2], \"mass\": qcd_data2[:,:,3]},with_name=\"Momentum4D\")\n",
    "print(data)"
   ]
  },
  {
   "cell_type": "code",
   "execution_count": 149,
   "metadata": {},
   "outputs": [],
   "source": [
    "cluster = fj.ClusterSequence(data_final2, jetdef)"
   ]
  },
  {
   "cell_type": "code",
   "execution_count": 164,
   "metadata": {},
   "outputs": [
    {
     "name": "stdout",
     "output_type": "stream",
     "text": [
      "100000\n",
      "9\n",
      "[[{pt: 0.313, eta: -4.87, phi: -1.25, mass: 0}], ..., [{pt: 1.33, ...}, ...]]\n"
     ]
    }
   ],
   "source": [
    "print(len(cluster.inclusive_jets()))\n",
    "print(len(cluster.constituents()[0]))\n",
    "print(cluster.constituents()[0])"
   ]
  },
  {
   "cell_type": "code",
   "execution_count": 181,
   "metadata": {},
   "outputs": [
    {
     "name": "stdout",
     "output_type": "stream",
     "text": [
      "{px: 0.0977, py: -0.298, pz: -20.5, E: 20.5}\n",
      "{px: -0.434, py: 0.0609, pz: 1.21, E: 1.29}\n",
      "{px: 0.39, py: -0.206, pz: 19.1, E: 19.1}\n",
      "{px: -0.825, py: -0.512, pz: 6.98, E: 7.06}\n",
      "{px: 0.695, py: 0.816, pz: -37, E: 37}\n",
      "{px: 17.2, py: 11.9, pz: -23.4, E: 31.6}\n",
      "{px: 81.1, py: 39.2, pz: -476, E: 484}\n",
      "{px: 1.4e+03, py: -675, pz: -452, E: 1.64e+03}\n",
      "{px: -1.47e+03, py: 612, pz: 511, E: 1.67e+03}\n",
      "---\n",
      "1260.0492381901236 389.53155379908804\n",
      "622.4544504778902 22.99916552249741\n",
      "571.1509239517713 57.76978708077366\n",
      "18.12601970993874 5.032401064731704\n",
      "5.748742979511506 0.5453846855739463\n",
      "3.9995428126762143 1.4182442260625165\n",
      "1.2714441069996443 0.425274700984893\n",
      "1.0898504257202148 8.429369702178807e-08\n",
      "0.9710561037063599 -4.76837158203125e-07\n",
      "0.7946855425834655 0.0\n",
      "0.7871347665786743 -8.259061849445711e-07\n",
      "0.4272216260433197 1.4901161193847656e-08\n",
      "0.3745048940181732 0.0\n"
     ]
    }
   ],
   "source": [
    "for jet in cluster.inclusive_jets()[0]:\n",
    "    print(jet)\n",
    "print(\"---\")\n",
    "for jet in cluster.inclusive_jets()[1][::-1]:\n",
    "    print(jet.pt, jet.mass)"
   ]
  },
  {
   "cell_type": "code",
   "execution_count": 161,
   "metadata": {},
   "outputs": [
    {
     "name": "stdout",
     "output_type": "stream",
     "text": [
      "9\n",
      "13\n",
      "9\n",
      "15\n",
      "9\n"
     ]
    }
   ],
   "source": [
    "for i in range(0, 5):\n",
    "    print(len(cluster.inclusive_jets()[i]))\n",
    "    #print(len(cluster.constituents()[i][1]))"
   ]
  },
  {
   "cell_type": "code",
   "execution_count": null,
   "metadata": {},
   "outputs": [],
   "source": []
  },
  {
   "cell_type": "markdown",
   "metadata": {},
   "source": [
    "## Cluster Jets"
   ]
  },
  {
   "cell_type": "markdown",
   "metadata": {},
   "source": [
    "We define a function that clusters the given constituents into jets. The [Anti-$k_t$ algorithm](https://arxiv.org/abs/0802.1189) with $R=1.0$ is used to do so. Only the first two leading $p_T$ jets are returned."
   ]
  },
  {
   "cell_type": "code",
   "execution_count": 6,
   "metadata": {},
   "outputs": [],
   "source": [
    "# define clustering function\n",
    "def cluster(data: np.array, n_events: int = 1000) -> list:\n",
    "    \"\"\"cluster the data with fastjet\n",
    "\n",
    "    Args:\n",
    "        data (np.array): data to cluster\n",
    "        n_events (int, optional): events that should be clustered. Defaults to 1000.\n",
    "\n",
    "    Returns:\n",
    "        list: clustered data\n",
    "    \"\"\"\n",
    "    out = []\n",
    "\n",
    "    # Loop over events\n",
    "    for ievt in tqdm(range(n_events)):\n",
    "        # Build a list of all particles\n",
    "        pjs = []\n",
    "        for i in range(data.shape[1]):\n",
    "            pj = fj.PseudoJet()\n",
    "\n",
    "            # skip zero padded particles\n",
    "            if data[ievt, i, 0] == 0:\n",
    "                continue\n",
    "\n",
    "            pj.reset_PtYPhiM(data[ievt, i, 0], data[ievt, i, 1], data[ievt, i, 2], 0)\n",
    "            pjs.append(pj)\n",
    "\n",
    "        # run jet clustering with AntiKt, R=1.0\n",
    "        R = 1.0\n",
    "        jet_def = fj.JetDefinition(fj.antikt_algorithm, R)\n",
    "\n",
    "        # Save the two leading jets\n",
    "        jets = jet_def(pjs)\n",
    "        jets = [j for j in jets if j.pt() > 30.0]\n",
    "        out.append([jets[0], jets[1]])\n",
    "\n",
    "    return out"
   ]
  },
  {
   "cell_type": "code",
   "execution_count": 32,
   "metadata": {},
   "outputs": [
    {
     "name": "stdout",
     "output_type": "stream",
     "text": [
      "[[[1.84, -2.36, 0.368], [1.32, -2.46, 0.798], [7.52, ... 0], [0, 0, 0], [0, 0, 0]]]\n"
     ]
    }
   ],
   "source": [
    "print(akqcd_data))"
   ]
  },
  {
   "cell_type": "code",
   "execution_count": 33,
   "metadata": {},
   "outputs": [
    {
     "name": "stderr",
     "output_type": "stream",
     "text": [
      "  0%|          | 0/100000 [00:00<?, ?it/s]\n"
     ]
    },
    {
     "ename": "AttributeError",
     "evalue": "no field named 'shape'\n\n(https://github.com/scikit-hep/awkward-1.0/blob/1.10.4/src/awkward/highlevel.py#L1124)",
     "output_type": "error",
     "traceback": [
      "\u001b[0;31m---------------------------------------------------------------------------\u001b[0m",
      "\u001b[0;31mAttributeError\u001b[0m                            Traceback (most recent call last)",
      "Cell \u001b[0;32mIn[33], line 3\u001b[0m\n\u001b[1;32m      1\u001b[0m \u001b[39m# actually cluster the data\u001b[39;00m\n\u001b[1;32m      2\u001b[0m \u001b[39m# this is what takes some time\u001b[39;00m\n\u001b[0;32m----> 3\u001b[0m out_qcd \u001b[39m=\u001b[39m cluster(ak\u001b[39m.\u001b[39;49mArray(qcd_data), n_events\u001b[39m=\u001b[39;49m\u001b[39mlen\u001b[39;49m(qcd_data))\n\u001b[1;32m      4\u001b[0m out_sig \u001b[39m=\u001b[39m cluster(ak\u001b[39m.\u001b[39mArray(sig_data), n_events\u001b[39m=\u001b[39m\u001b[39mlen\u001b[39m(sig_data))\n\u001b[1;32m      5\u001b[0m out \u001b[39m=\u001b[39m [out_qcd, out_sig]\n",
      "Cell \u001b[0;32mIn[6], line 17\u001b[0m, in \u001b[0;36mcluster\u001b[0;34m(data, n_events)\u001b[0m\n\u001b[1;32m     14\u001b[0m \u001b[39mfor\u001b[39;00m ievt \u001b[39min\u001b[39;00m tqdm(\u001b[39mrange\u001b[39m(n_events)):\n\u001b[1;32m     15\u001b[0m     \u001b[39m# Build a list of all particles\u001b[39;00m\n\u001b[1;32m     16\u001b[0m     pjs \u001b[39m=\u001b[39m []\n\u001b[0;32m---> 17\u001b[0m     \u001b[39mfor\u001b[39;00m i \u001b[39min\u001b[39;00m \u001b[39mrange\u001b[39m(data\u001b[39m.\u001b[39;49mshape[\u001b[39m1\u001b[39m]):\n\u001b[1;32m     18\u001b[0m         pj \u001b[39m=\u001b[39m fj\u001b[39m.\u001b[39mPseudoJet()\n\u001b[1;32m     20\u001b[0m         \u001b[39m# skip zero padded particles\u001b[39;00m\n",
      "File \u001b[0;32m~/.conda/envs/pllhome/lib/python3.10/site-packages/awkward/highlevel.py:1123\u001b[0m, in \u001b[0;36mArray.__getattr__\u001b[0;34m(self, where)\u001b[0m\n\u001b[1;32m   1117\u001b[0m         \u001b[39mraise\u001b[39;00m \u001b[39mAttributeError\u001b[39;00m(\n\u001b[1;32m   1118\u001b[0m             \u001b[39m\"\u001b[39m\u001b[39mwhile trying to get field \u001b[39m\u001b[39m{}\u001b[39;00m\u001b[39m, an exception \u001b[39m\u001b[39m\"\u001b[39m\n\u001b[1;32m   1119\u001b[0m             \u001b[39m\"\u001b[39m\u001b[39moccurred:\u001b[39m\u001b[39m\\n\u001b[39;00m\u001b[39m{}\u001b[39;00m\u001b[39m: \u001b[39m\u001b[39m{}\u001b[39;00m\u001b[39m\"\u001b[39m\u001b[39m.\u001b[39mformat(\u001b[39mrepr\u001b[39m(where), \u001b[39mtype\u001b[39m(err), \u001b[39mstr\u001b[39m(err))\n\u001b[1;32m   1120\u001b[0m             \u001b[39m+\u001b[39m ak\u001b[39m.\u001b[39m_util\u001b[39m.\u001b[39mexception_suffix(\u001b[39m__file__\u001b[39m)\n\u001b[1;32m   1121\u001b[0m         ) \u001b[39mfrom\u001b[39;00m \u001b[39merr\u001b[39;00m\n\u001b[1;32m   1122\u001b[0m \u001b[39melse\u001b[39;00m:\n\u001b[0;32m-> 1123\u001b[0m     \u001b[39mraise\u001b[39;00m \u001b[39mAttributeError\u001b[39;00m(\n\u001b[1;32m   1124\u001b[0m         \u001b[39mf\u001b[39m\u001b[39m\"\u001b[39m\u001b[39mno field named \u001b[39m\u001b[39m{\u001b[39;00mwhere\u001b[39m!r}\u001b[39;00m\u001b[39m\"\u001b[39m \u001b[39m+\u001b[39m ak\u001b[39m.\u001b[39m_util\u001b[39m.\u001b[39mexception_suffix(\u001b[39m__file__\u001b[39m)\n\u001b[1;32m   1125\u001b[0m     )\n",
      "\u001b[0;31mAttributeError\u001b[0m: no field named 'shape'\n\n(https://github.com/scikit-hep/awkward-1.0/blob/1.10.4/src/awkward/highlevel.py#L1124)"
     ]
    }
   ],
   "source": [
    "# actually cluster the data\n",
    "# this is what takes some time\n",
    "out_qcd = cluster(qcd_data, n_events=len(qcd_data))\n",
    "out_sig = cluster(sig_data, n_events=len(sig_data))\n",
    "out = [out_qcd, out_sig]"
   ]
  },
  {
   "cell_type": "markdown",
   "metadata": {},
   "source": [
    "### Read out jet properties"
   ]
  },
  {
   "cell_type": "markdown",
   "metadata": {},
   "source": [
    "Fastjet returns a list of `PseudoJet` objects. We convert these to a list of tuples containing the jet $p_T$, $\\eta$, $\\phi$, and $m$."
   ]
  },
  {
   "cell_type": "code",
   "execution_count": 14,
   "metadata": {},
   "outputs": [],
   "source": [
    "# separate the leading and subleading jets\n",
    "for jets in out:\n",
    "    x_jets = []\n",
    "    y_jets = []\n",
    "    for jets in jets:\n",
    "        x_jet = jets[0]\n",
    "        y_jet = jets[1]\n",
    "        x_jets.append(x_jet)\n",
    "        y_jets.append(y_jet)\n",
    "    x_jets = np.array(x_jets)\n",
    "    y_jets = np.array(y_jets)"
   ]
  },
  {
   "cell_type": "code",
   "execution_count": 28,
   "metadata": {},
   "outputs": [
    {
     "name": "stdout",
     "output_type": "stream",
     "text": [
      "----x----\n"
     ]
    },
    {
     "ename": "IndexError",
     "evalue": "too many indices for array: array is 1-dimensional, but 2 were indexed",
     "output_type": "error",
     "traceback": [
      "\u001b[0;31m---------------------------------------------------------------------------\u001b[0m",
      "\u001b[0;31mIndexError\u001b[0m                                Traceback (most recent call last)",
      "Cell \u001b[0;32mIn[28], line 105\u001b[0m\n\u001b[1;32m    103\u001b[0m     mask\u001b[39m.\u001b[39mappend(padded_mask)\n\u001b[1;32m    104\u001b[0m mask \u001b[39m=\u001b[39m np\u001b[39m.\u001b[39marray(mask)\n\u001b[0;32m--> 105\u001b[0m constituents \u001b[39m=\u001b[39m np\u001b[39m.\u001b[39marray(constituents) \u001b[39m*\u001b[39m mask[:, :, \u001b[39mNone\u001b[39;49;00m]\n\u001b[1;32m    106\u001b[0m constituents_xyze \u001b[39m=\u001b[39m np\u001b[39m.\u001b[39marray(constituents_xyze)\n\u001b[1;32m    107\u001b[0m rel_constituents \u001b[39m=\u001b[39m np\u001b[39m.\u001b[39marray(rel_constituents) \u001b[39m*\u001b[39m mask[:, :, \u001b[39mNone\u001b[39;00m]\n",
      "\u001b[0;31mIndexError\u001b[0m: too many indices for array: array is 1-dimensional, but 2 were indexed"
     ]
    }
   ],
   "source": [
    "for c, xy_jets in enumerate([x_jets, y_jets]):\n",
    "    print(f\"----{'x' if c == 0 else 'y'}----\")\n",
    "    # get padded constituents, relative coordinates and mask in the wanted format\n",
    "    len_padding = 300\n",
    "    constituents = []\n",
    "    constituents_xyze = []\n",
    "    rel_constituents = []\n",
    "    mask = []\n",
    "    jet_mass = []\n",
    "    jet_pt = []\n",
    "    jet_eta = []\n",
    "    jet_phi = []\n",
    "    jet_px = []\n",
    "    jet_py = []\n",
    "    jet_pz = []\n",
    "    jet_e = []\n",
    "    for jet in xy_jets:\n",
    "        # get constituents\n",
    "        const_pt = np.array(\n",
    "            [(jet.constituents()[i].perp()) for i in range(len(jet.constituents()))]\n",
    "        )\n",
    "        const_eta = np.array(\n",
    "            [\n",
    "                (jet.constituents()[i].pseudorapidity())\n",
    "                for i in range(len(jet.constituents()))\n",
    "            ]\n",
    "        )\n",
    "        const_phi = np.array(\n",
    "            [(jet.constituents()[i].phi_std()) for i in range(len(jet.constituents()))]\n",
    "        )\n",
    "        # xyze\n",
    "        const_px = np.array(\n",
    "            [(jet.constituents()[i].px()) for i in range(len(jet.constituents()))]\n",
    "        )\n",
    "        const_py = np.array(\n",
    "            [(jet.constituents()[i].py()) for i in range(len(jet.constituents()))]\n",
    "        )\n",
    "        const_pz = np.array(\n",
    "            [(jet.constituents()[i].pz()) for i in range(len(jet.constituents()))]\n",
    "        )\n",
    "        const_e = np.array(\n",
    "            [(jet.constituents()[i].e()) for i in range(len(jet.constituents()))]\n",
    "        )\n",
    "\n",
    "        # concatenate\n",
    "        consts = np.concatenate(\n",
    "            (const_pt[:, None], const_eta[:, None], const_phi[:, None]), axis=1\n",
    "        )\n",
    "        consts_xyze = np.concatenate(\n",
    "            (const_px[:, None], const_py[:, None], const_pz[:, None], const_e[:, None]),\n",
    "            axis=1,\n",
    "        )\n",
    "        # sort constituents by pT from high to low\n",
    "        consts = consts[np.argsort(consts[:, 0])[::-1]]\n",
    "\n",
    "        # pad constituents and mask\n",
    "        padded_consts = np.pad(\n",
    "            consts, ((0, len_padding - len(consts)), (0, 0)), \"constant\", constant_values=0\n",
    "        )\n",
    "        padded_consts_xyze = np.pad(\n",
    "            consts_xyze,\n",
    "            ((0, len_padding - len(consts_xyze)), (0, 0)),\n",
    "            \"constant\",\n",
    "            constant_values=0,\n",
    "        )\n",
    "        padded_mask = np.pad(\n",
    "            np.ones(len(consts)),\n",
    "            (0, len_padding - len(consts)),\n",
    "            \"constant\",\n",
    "            constant_values=0,\n",
    "        )\n",
    "\n",
    "        # relative coordinates\n",
    "        rel_constituents_temp = padded_consts.copy()\n",
    "        rel_constituents_temp[:, 0] = rel_constituents_temp[:, 0] / jet.perp()\n",
    "        rel_constituents_temp[:, 1] = rel_constituents_temp[:, 1] - jet.pseudorapidity()\n",
    "        rel_constituents_temp[:, 2] = rel_constituents_temp[:, 2] - jet.phi_std()\n",
    "\n",
    "        # fix phi range\n",
    "        rel_constituents_temp[:, 2] = np.where(\n",
    "            rel_constituents_temp[:, 2] > np.pi,\n",
    "            rel_constituents_temp[:, 2] - 2 * np.pi,\n",
    "            rel_constituents_temp[:, 2],\n",
    "        )\n",
    "        rel_constituents_temp[:, 2] = np.where(\n",
    "            rel_constituents_temp[:, 2] < -np.pi,\n",
    "            rel_constituents_temp[:, 2] + 2 * np.pi,\n",
    "            rel_constituents_temp[:, 2],\n",
    "        )\n",
    "\n",
    "        # jet variables & append to list\n",
    "        jet_mass.append(jet.m())\n",
    "        jet_pt.append(jet.perp())\n",
    "        jet_eta.append(jet.pseudorapidity())\n",
    "        jet_phi.append(jet.phi_std())\n",
    "        jet_px.append(jet.px())\n",
    "        jet_py.append(jet.py())\n",
    "        jet_pz.append(jet.pz())\n",
    "        jet_e.append(jet.e())\n",
    "        constituents.append(padded_consts)\n",
    "        constituents_xyze.append(padded_consts_xyze)\n",
    "        rel_constituents.append(rel_constituents_temp)\n",
    "        mask.append(padded_mask)\n",
    "    mask = np.array(mask)\n",
    "    constituents = np.array(constituents) * mask[:, :, None]\n",
    "    constituents_xyze = np.array(constituents_xyze)\n",
    "    rel_constituents = np.array(rel_constituents) * mask[:, :, None]\n",
    "    jet_mass = np.array(jet_mass)\n",
    "    jet_pt = np.array(jet_pt)\n",
    "    jet_eta = np.array(jet_eta)\n",
    "    jet_phi = np.array(jet_phi)\n",
    "    jet_px = np.array(jet_px)\n",
    "    jet_py = np.array(jet_py)\n",
    "    jet_pz = np.array(jet_pz)\n",
    "    jet_e = np.array(jet_e)\n",
    "    jet_data = np.concatenate(\n",
    "        (\n",
    "            jet_pt[:, None],\n",
    "            jet_eta[:, None],\n",
    "            jet_phi[:, None],\n",
    "            jet_mass[:, None],\n",
    "            jet_px[:, None],\n",
    "            jet_py[:, None],\n",
    "            jet_pz[:, None],\n",
    "            jet_e[:, None],\n",
    "        ),\n",
    "        axis=1,\n",
    "    )"
   ]
  }
 ],
 "metadata": {
  "kernelspec": {
   "display_name": "pllhome",
   "language": "python",
   "name": "python3"
  },
  "language_info": {
   "codemirror_mode": {
    "name": "ipython",
    "version": 3
   },
   "file_extension": ".py",
   "mimetype": "text/x-python",
   "name": "python",
   "nbconvert_exporter": "python",
   "pygments_lexer": "ipython3",
   "version": "3.10.6"
  },
  "orig_nbformat": 4
 },
 "nbformat": 4,
 "nbformat_minor": 2
}
